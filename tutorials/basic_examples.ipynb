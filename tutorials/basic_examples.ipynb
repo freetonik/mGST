{
 "cells": [
  {
   "cell_type": "markdown",
   "id": "19498ba6-106b-4ef2-b798-ca7d0a6fce8a",
   "metadata": {},
   "source": [
    "# Single qubit/qutrit examples and algorithm usage\n",
    "\n",
    "In this notebook we use simulated measurements to show how the mGST algorithm is used. <br>\n",
    "We make sure all the necessary functions are available by running the following python scripts. "
   ]
  },
  {
   "cell_type": "code",
   "execution_count": 1,
   "id": "c1a2821e",
   "metadata": {},
   "outputs": [],
   "source": [
    "import numpy as np\n",
    "import random\n",
    "import matplotlib.pyplot as plt\n",
    "import numba\n",
    "import time\n",
    "from scipy.linalg import expm\n",
    "from mGST import additional_fns, low_level_jit, algorithm, compatibility\n"
   ]
  },
  {
   "cell_type": "markdown",
   "id": "dbcf3f6b-a9c2-49ba-adf9-4d828ced2a03",
   "metadata": {},
   "source": [
    "The latest package versions tested are: <br>\n",
    "numpy==1.21.6 <br>\n",
    "pygsti==0.9.10 <br>\n",
    "numba==0.55.1 <br>\n",
    "\n",
    "You can check your versions via the following command:"
   ]
  },
  {
   "cell_type": "code",
   "execution_count": 2,
   "id": "fde6f10d-2550-468c-8f95-108ad39e39e2",
   "metadata": {},
   "outputs": [
    {
     "name": "stdout",
     "output_type": "stream",
     "text": [
      "numpy==1.21.6\n",
      "numba==0.55.1\n"
     ]
    }
   ],
   "source": [
    "print('\\n'.join(f'{m.__name__}=={m.__version__}' for m in globals(\n",
    ").values() if getattr(m, '__version__', None)))\n"
   ]
  },
  {
   "cell_type": "markdown",
   "id": "c3916631-d169-4823-8e76-200d2c7a7040",
   "metadata": {},
   "source": [
    "### First, let's create a random unitary gate set and define the parameters that we need:"
   ]
  },
  {
   "cell_type": "code",
   "execution_count": 3,
   "id": "bc5a4c05-f8c4-46cd-ad54-4fc6a2544e66",
   "metadata": {},
   "outputs": [],
   "source": [
    "pdim = 2   # physical dimension\n",
    "r = pdim**2   # matrix dimension of the gate superoperators\n",
    "l = 8  # maximum number of gates in each measurement sequence (sequence length)\n",
    "d = 4  # number of gates in the gate set\n",
    "rK_true = 1   # rank of simulated gates used for testing\n",
    "rK = 1   # rank of the mGST model estimate\n",
    "n_povm = 2   # number of POVM-elements\n"
   ]
  },
  {
   "cell_type": "markdown",
   "id": "e7c32918-9878-473f-a1b8-cc8ea93f3fd6",
   "metadata": {},
   "source": [
    "We can use some of the functions we imported to generate a random gate set.\n",
    "The function *randKrausSet_Haar(d,r,rK_true)* generates d sets of Kraus operators, where each set is found by taking a Haar random unitary and using a subset of its columns the generate an isometry of shape (rK_true*pdim) x (pdim). <br>\n",
    "For an initial state and a POVM element we can simply take a computational basis elements."
   ]
  },
  {
   "cell_type": "code",
   "execution_count": 4,
   "id": "21ec48d1-7a63-487f-b532-3d8b10165da7",
   "metadata": {},
   "outputs": [],
   "source": [
    "K_true = additional_fns.randKrausSet_Haar(\n",
    "    d, r, rK_true)   # tensor of random Kraus operators\n",
    "X_true = np.einsum('ijkl,ijnm -> iknlm', K_true, K_true.conj()\n",
    "                   ).reshape(d, r, r)   # tensor of superoperators\n",
    "\n",
    "K_depol = additional_fns.depol(pdim, 0.02)  # Kraus-rep of depolarizing channel\n",
    "G_depol = np.einsum('jkl,jnm -> knlm', K_depol, K_depol.conj()).reshape(r, r)\n",
    "# |10> initial state with depolarizing noise\n",
    "rho_true = G_depol@np.array([[1, 0], [0, 0]]).reshape(-1).astype(np.complex128)\n",
    "\n",
    "# Computational basis measurement:\n",
    "E1 = np.array([[1, 0], [0, 0]]).reshape(-1)\n",
    "E2 = np.array([[0, 0], [0, 1]]).reshape(-1)\n",
    "E_true = np.array([E1, E2]).astype(np.complex128)   # Full POVM\n"
   ]
  },
  {
   "cell_type": "markdown",
   "id": "b58c0916-19e5-4999-8d6a-9b9c9f73db7e",
   "metadata": {},
   "source": [
    "Next up we need some gate sequence instructions and simulated measurements. Each gate is identified by an index between 0 and d-1, meaning a gate sequences can most simply be represented by a list of gate indices. We write a full set containing *N* many sequence instructions as a numpy array *J* of shape *N* x *d*. The resulting state after each sequences is measured *meas_samples*-times with a POVM consisting of *n_povm* many alements. Therefore we will have *n_povm*-many estimated probabilites per sequences and we can collect all results in a numpy array *y* of shape *n_povm* x *N*. "
   ]
  },
  {
   "cell_type": "code",
   "execution_count": 5,
   "id": "179157b5-797b-4e15-9609-3a25d65f8346",
   "metadata": {
    "tags": []
   },
   "outputs": [],
   "source": [
    "N = 100  # Number of sequences\n",
    "meas_samples = 1e5  # Number of samples per sequences\n",
    "# generate random numbers between 0 and $d^l - 1$\n",
    "J_rand = np.array(random.sample(range(d**l), N))\n",
    "# turn random numbers into gate instructions\n",
    "J = np.array([low_level_jit.local_basis(ind, d, l) for ind in J_rand])\n",
    "y = np.real(np.array([[E_true[i].conj()@low_level_jit.contract(X_true, j)@rho_true for j in J]\n",
    "            for i in range(n_povm)]))   # obtain ideal output probabilities\n",
    "# simulate finite sampling statistics\n",
    "y_sampled = additional_fns.sampled_measurements(y, meas_samples).copy()\n"
   ]
  },
  {
   "cell_type": "markdown",
   "id": "f86a9b83-7c9f-4cb3-972e-b9886f8ab0c2",
   "metadata": {},
   "source": [
    "For our first test we use an initialitation where the state preparation and measurement are random, but the gate are just rotated versions of the ideal gates. "
   ]
  },
  {
   "cell_type": "code",
   "execution_count": 6,
   "id": "427f6690-4f7a-4ea4-a86a-b9d10ebed338",
   "metadata": {},
   "outputs": [],
   "source": [
    "delta = .1  # unitary noise parameter\n",
    "\n",
    "# Generate noisy version of true gate set\n",
    "K0 = np.zeros((d, rK, pdim, pdim)).astype(np.complex128)\n",
    "for i in range(d):\n",
    "    U_p = expm(delta*1j*additional_fns.randHerm(pdim)\n",
    "               ).astype(np.complex128)   # unitary noise\n",
    "    K0[i] = np.einsum('jkl,lm', K_true[i], U_p)\n",
    "X0 = np.einsum('ijkl,ijnm -> iknlm', K0, K0.conj()).reshape(d, r, r)\n",
    "\n",
    "rho0 = additional_fns.randpsd(r).copy()   # random initial state\n",
    "A0 = additional_fns.randKrausSet(1, r, n_povm)[0].conj()   # random POVM decomposition\n",
    "E0 = np.array([(A0[i].T.conj()@A0[i]).reshape(-1)\n",
    "              for i in range(n_povm)]).copy()"
   ]
  },
  {
   "cell_type": "markdown",
   "id": "6552492c-7d9d-45f3-94e3-57b80c9db224",
   "metadata": {},
   "source": [
    "Now it's time to run mGST on the data set. Note that if the algorithm is run for the first time on a new machine it can take up to a few minutes to compile the low level functions (such as derivatives). <br>\n",
    "The main function is called *run_mGST*, for information it's variables and outputs we can call the help(run_mGST):"
   ]
  },
  {
   "cell_type": "code",
   "execution_count": 7,
   "id": "9bf72135-db94-40f3-b7c7-e15f0a67f875",
   "metadata": {},
   "outputs": [
    {
     "name": "stdout",
     "output_type": "stream",
     "text": [
      "Starting optimization...\n",
      " 77%|████████████████████████████████▉          | 23/30 [00:28<00:08,  1.26s/it]\n",
      "Optimization successful, improving estimate over full data....\n",
      " 50%|██████████████████████                      | 5/10 [00:20<00:20,  4.10s/it]\n",
      "#################\n",
      "\t Convergence criterion satisfied\n",
      "\t Final objective function value 1.2701900011841689e-06 with # of initializations: 1 \n",
      " \t Total runtime: 49.87487506866455\n"
     ]
    },
    {
     "data": {
      "image/png": "[encoded data removed]",
      "text/plain": [
       "<Figure size 432x288 with 1 Axes>"
      ]
     },
     "metadata": {},
     "output_type": "display_data"
    },
    {
     "name": "stdout",
     "output_type": "stream",
     "text": [
      "Mean variation error: 0.00047059049578387804\n"
     ]
    }
   ],
   "source": [
    "bsize = 50   # The batch size on which the optimization is started\n",
    "K, X, E, rho, res_list = algorithm.run_mGST(y_sampled, J, l, d, r, rK, n_povm, bsize, meas_samples, method='SFN',\n",
    "                                  max_inits=10, max_iter=30, final_iter=10,\n",
    "                                  target_rel_prec=1e-4, init=[K0, E0, rho0])\n",
    "plt.semilogy(res_list)   # plot the objective function over the iterations\n",
    "plt.show()\n",
    "print('Mean variation error:', additional_fns.MVE(X_true, E_true, rho_true, X, E,\n",
    "      rho, d, l, n_povm)[0])   # output the final mean variation error\n"
   ]
  },
  {
   "cell_type": "markdown",
   "id": "29ea3acd-bde5-49a7-8cb9-b73e77564050",
   "metadata": {
    "tags": []
   },
   "source": [
    "### A note on hyperparameters\n",
    "**bsize:** This controls the \"batch size\", meaning how many of the total sequences are sampled per initialization step. This is done until a good estimate is reached, which is afterwards improved on the dull set of sequences. \n",
    "A too small value of bsize leads to chaotic jumping in the parameter space without convergence, while a too large value leads to longer runtimes. Generally, the more free parameters a model has, the higher the batch size needs to be. Good heuristic values are: <br>\n",
    "bsize = 50 for a single quabit gate set of 3 gates, <br>\n",
    "bsize = 80 for a single qutrit gate set of 6 gates. <br>\n",
    "bsize = 120 for a two qubit gate set of 6 gates.\n",
    "\n",
    "**max_inits:** Controls the maximum number of reinitializations, this can be increased if the algorithm doesn't converge. The target Kraus rank rK can have a large influence on the required number of initializations and we find that in many cases rK=2 requires fewer initializations than rK=1 (See also discussion in https://arxiv.org/abs/2112.05176).\n",
    "\n",
    "**max_iter:** Maximum number of iterations spend on the batch optimization per initialization. Generally values around 150-200 are a good trade off between leaving enough iterations to converge if an optimal value can be reached from the given initialization, and not spending too much time on a bad initialization.\n",
    "\n",
    "**final_iter** and **target_rel_prec:** If the convergence criterion is satisfied, a maximum of final_iter - many iterations on the full dataset are performed to fully converge. If the iteration on iteration improvement on the objective function is less than target_rel_prec * delta, where delta is the convergence threshold, then the final iteration loop is terminated and a the resulting gate set estimate is returned. If computation time is not an issue and higher precision of the estimator is desired, then target_rel_prec can be decreased and final_iter increased."
   ]
  },
  {
   "cell_type": "markdown",
   "id": "0421e024-ce89-4ee9-8aef-16e86ee4194d",
   "metadata": {},
   "source": [
    "## XYI gate set $\\{\\mathrm{Id}, e^{i \\frac{\\alpha}{2} \\sigma_y}, e^{i \\frac{\\alpha}{2} \\sigma_x}\\}$ from random initialization\n",
    "The XYI gate set is a minimal gate set that is tomographically complete when applied to the $|0><0|$ state and constitutes a standard example for gate set tomography. In this example we don't give an initialization to mGST, resulting in a random initialization to be generated automatically. As a result, more than one initialization attempt might be necessary to converge to a satisfying objective funtion value. We can tweak the number of allowerd initializations with the *max_inits* parameter."
   ]
  },
  {
   "cell_type": "code",
   "execution_count": 40,
   "id": "43864988-5fb9-4760-b959-e24d12e8e3fd",
   "metadata": {},
   "outputs": [],
   "source": [
    "from pygsti.modelpacks import smq1Q_XYI as std\n",
    "mdl_datagen = std.target_model().depolarize(0.01).randomize_with_unitary(\n",
    "    0.01)   # use pygsti-function to add noise\n",
    "X_true, E_true, rho_true = compatibility.pygsti_model_to_arrays(\n",
    "    mdl_datagen, basis='std')   # turn pygsti model object into numpy arrays\n",
    "\n",
    "pdim = 2\n",
    "r = pdim**2\n",
    "\n",
    "l = 7\n",
    "d = 3\n",
    "\n",
    "n_povm = 2\n",
    "rK = 2"
   ]
  },
  {
   "cell_type": "code",
   "execution_count": 41,
   "id": "cfce7854-2725-49f8-b80d-e8eb5d0042aa",
   "metadata": {},
   "outputs": [],
   "source": [
    "sequence_count = 100\n",
    "meas_samples = 1e3\n",
    "J_rand = np.array(random.sample(range(d**l), sequence_count))\n",
    "J = np.array([low_level_jit.local_basis(ind, d, l) for ind in J_rand])\n",
    "y = np.real(np.array([[E_true[i].conj()@low_level_jit.contract(X_true, j)\n",
    "            @ rho_true for j in J] for i in range(n_povm)]))\n",
    "y_sampled = additional_fns.sampled_measurements(y, meas_samples).copy()"
   ]
  },
  {
   "cell_type": "markdown",
   "id": "d22154b6-d27f-459c-a1ff-6ee628589a8f",
   "metadata": {},
   "source": [
    "For the following run we set the parameter \"testing = True\", which plots the objective function over the number of iterations for every initialization attempt. <br>\n",
    "This helps in finding problems, for instance if max_iter was set too low to allow convergence, the plot will show continued decrease of the objective function up until the iteration limit, without reaching the success threshold. Another problem that can come up is model mismatch, for instance if rK is set to 1, but the actual gate set can not be well approximated by a Rank 1 Channel. Then the default success criterion might be too stringent, since no gate set in the Rank 1 model class can attain a low enough error. This can be fixed by setting the optional variable \"threshold_multiplyer\" to a higher value (the default ist threshold_multiplyer = 3)."
   ]
  },
  {
   "cell_type": "code",
   "execution_count": 26,
   "id": "109ef049-4ff8-4e17-84d5-363bea018470",
   "metadata": {},
   "outputs": [
    {
     "name": "stdout",
     "output_type": "stream",
     "text": [
      "Starting optimization...\n",
      "100%|██████████| 100/100 [00:35<00:00,  2.85it/s]\n"
     ]
    },
    {
     "data": {
      "image/png": "[encoded data removed]",
      "text/plain": [
       "<Figure size 640x480 with 1 Axes>"
      ]
     },
     "metadata": {},
     "output_type": "display_data"
    },
    {
     "name": "stdout",
     "output_type": "stream",
     "text": [
      "Run  0 failed, trying new initialization...\n",
      " 34%|███▍      | 34/100 [00:16<00:31,  2.09it/s]\n"
     ]
    },
    {
     "data": {
      "image/png": "[encoded data removed]",
      "text/plain": [
       "<Figure size 640x480 with 1 Axes>"
      ]
     },
     "metadata": {},
     "output_type": "display_data"
    },
    {
     "name": "stdout",
     "output_type": "stream",
     "text": [
      "Initialization successful, improving estimate over full data....\n",
      "100%|██████████| 10/10 [00:07<00:00,  1.27it/s]\n",
      "#################\n",
      "\t Convergence criterion satisfied\n",
      "\t Final objective function value 8.972249805303893e-05 with # of initializations: 2 \n",
      " \t Total runtime: 60.14927124977112\n",
      "Mean variation error: (0.008006655080104907, 0.05238357452923559)\n"
     ]
    }
   ],
   "source": [
    "bsize = 50\n",
    "t0 = time.time()\n",
    "K, X, E, rho, res_list = algorithm.run_mGST(y_sampled, J, l, d, r, rK, n_povm, bsize, meas_samples, method='SFN',\n",
    "                                  max_inits=5, max_iter=100, final_iter=10,\n",
    "                                  target_rel_prec=1e-4, testing=True)\n",
    "print('Mean variation error:', additional_fns.MVE(\n",
    "    X_true, E_true, rho_true, X, E, rho, d, l, n_povm))\n"
   ]
  },
  {
   "cell_type": "markdown",
   "id": "fceb7186-94d4-4eb6-b3d5-0af8cdc5a53d",
   "metadata": {},
   "source": [
    "## GST on a 3-level system\n",
    "This example considers a qutrit gate set made up of a qutrit Hadamard gate, as well as X- and Z-gate defined on two-level subspaces. The gate set was previously used for gate set tomography in https://arxiv.org/pdf/2210.04857.pdf"
   ]
  },
  {
   "cell_type": "code",
   "execution_count": 27,
   "id": "22cc1ac8-23ce-41dd-86de-8aa09ccdb3c3",
   "metadata": {},
   "outputs": [],
   "source": [
    "pdim = 3\n",
    "r = pdim**2\n",
    "l = 8\n",
    "d = 6\n",
    "rK = 2\n",
    "n_povm = 3"
   ]
  },
  {
   "cell_type": "code",
   "execution_count": 28,
   "id": "04f5e339-7e5f-46db-b19d-5149deaf1c67",
   "metadata": {},
   "outputs": [],
   "source": [
    "w = np.exp(1j*2*np.pi/3)\n",
    "K_true = np.zeros((6, 1, 3, 3)).astype(np.complex128)\n",
    "K_true[0] = np.array([[1, 0, 0], [0, 1, 0], [0, 0, 1]])  # Identity\n",
    "K_true[1] = np.array([[1, 1, 1], [1, w, w**2], [1, w**2, w]]\n",
    "                     )/np.sqrt(3)  # Hadamard\n",
    "# Single qubit X-gate on the {|100>, |010>} subspace\n",
    "K_true[2] = np.array([[0, 1, 0], [1, 0, 0], [0, 0, 1]])\n",
    "# Single qubit X-gate on the {|010>, |001>} subspace\n",
    "K_true[3] = np.array([[1, 0, 0], [0, 0, 1], [0, 1, 0]])\n",
    "K_true[4] = np.array([[1, 0, 0], [0, w, 0], [0, 0, 1]]\n",
    "                     )  # Phase gate on the |010> state\n",
    "K_true[5] = np.array([[1, 0, 0], [0, 1, 0], [0, 0, w]]\n",
    "                     )  # Phase gate on the |001> state\n"
   ]
  },
  {
   "cell_type": "markdown",
   "id": "62d41c20-f7bf-40c1-8e8d-4365b03a604d",
   "metadata": {},
   "source": [
    "We can also be more creative with the noise model and generate random noise channels that have vartiable distance to the identity channels:"
   ]
  },
  {
   "cell_type": "code",
   "execution_count": 29,
   "id": "4569c0b1-07f7-415d-89a2-418654642785",
   "metadata": {},
   "outputs": [],
   "source": [
    "# Gate set tensor consisting of all gate superoperators\n",
    "X_ideal = np.einsum('ijkl,ijnm -> iknlm', K_true,\n",
    "                    K_true.conj()).reshape(d, r, r)\n",
    "# Generates Kraus representations of random channels; The parameter a controls the distance from the identity channel\n",
    "K_Lambda = additional_fns.randKrausSet(d, r, 9, a=0.2)\n",
    "X_id = np.array([np.eye(r) for _ in range(d)])  # Identity channels\n",
    "\n",
    "Lambda = np.einsum('ijkl,ijnm -> iknlm', K_Lambda, K_Lambda.conj()\n",
    "                   ).reshape(d, r, r)  # Gate set tensor of noise channels\n",
    "# Noise channels applied to the ideal gates\n",
    "X_true = np.einsum('ijk,ikl -> ijl', X_ideal, Lambda)\n",
    "\n",
    "K_depol = additional_fns.depol(pdim, 0.02)  # Kraus-rep of depolarizing channel\n",
    "G_depol = np.einsum('jkl,jnm -> knlm', K_depol, K_depol.conj()).reshape(r, r)\n",
    "# |100> initial state with depolarizing noise\n",
    "rho_true = G_depol@np.array([[1, 0, 0], [0, 0, 0],\n",
    "                            [0, 0, 0]]).reshape(-1).astype(np.complex128)\n",
    "\n",
    "# Computational basis measurement:\n",
    "E1 = np.array([[1, 0, 0], [0, 0, 0], [0, 0, 0]]).reshape(-1)\n",
    "E2 = np.array([[0, 0, 0], [0, 1, 0], [0, 0, 0]]).reshape(-1)\n",
    "E3 = np.array([[0, 0, 0], [0, 0, 0], [0, 0, 1]]).reshape(-1)\n",
    "E_true = np.array([E1, E2, E3]).astype(np.complex128)   # Full POVM\n"
   ]
  },
  {
   "cell_type": "code",
   "execution_count": 30,
   "id": "1428723b-8a87-40c6-a032-5749be5609eb",
   "metadata": {},
   "outputs": [
    {
     "name": "stdout",
     "output_type": "stream",
     "text": [
      "Gate 0 positive: True\n",
      "Gate 0 trace preserving: True\n",
      "Gate 1 positive: True\n",
      "Gate 1 trace preserving: True\n",
      "Gate 2 positive: True\n",
      "Gate 2 trace preserving: True\n",
      "Gate 3 positive: True\n",
      "Gate 3 trace preserving: True\n",
      "Gate 4 positive: True\n",
      "Gate 4 trace preserving: True\n",
      "Gate 5 positive: True\n",
      "Gate 5 trace preserving: True\n",
      "Initial state positive: True\n",
      "Initial state normalization: (1.0000000000000002+0j)\n",
      "POVM valid: True\n"
     ]
    }
   ],
   "source": [
    "# A handy function to test whether a gate set satisfies all positivity and normalization constraints:\n",
    "additional_fns.is_positive(X_true, E_true, rho_true)"
   ]
  },
  {
   "cell_type": "code",
   "execution_count": 31,
   "id": "bf905e2a-7083-4c82-a40c-34a088f6bf85",
   "metadata": {},
   "outputs": [],
   "source": [
    "N = 300  # Number of sequences\n",
    "meas_samples = 1e3  # Number of samples per sequences\n",
    "# generate random numbers between 0 and $d^l - 1$\n",
    "J_rand = np.array(random.sample(range(d**l), N))\n",
    "# turn random numbers into gate instructions\n",
    "J = np.array([low_level_jit.local_basis(ind, d, l) for ind in J_rand])\n",
    "y = np.real(np.array([[E_true[i].conj()@low_level_jit.contract(X_true, j)@rho_true for j in J]\n",
    "            for i in range(n_povm)]))   # obtain ideal output probabilities\n",
    "# simulate finite sampling statistics\n",
    "y_sampled = additional_fns.sampled_measurements(y, meas_samples).copy()\n"
   ]
  },
  {
   "cell_type": "code",
   "execution_count": 32,
   "id": "61938aab-b6a3-41d5-aad5-b67b645e0110",
   "metadata": {},
   "outputs": [
    {
     "name": "stdout",
     "output_type": "stream",
     "text": [
      "Starting optimization...\n",
      " 60%|██████    | 181/300 [05:01<03:18,  1.66s/it]\n",
      "Initialization successful, improving estimate over full data....\n",
      "100%|██████████| 30/30 [02:22<00:00,  4.75s/it]\n",
      "#################\n",
      "\t Convergence criterion satisfied\n",
      "\t Final objective function value 0.00010446849006816751 with # of initializations: 1 \n",
      " \t Total runtime: 443.78416204452515\n"
     ]
    },
    {
     "data": {
      "image/png": "[encoded data removed]",
      "text/plain": [
       "<Figure size 640x480 with 1 Axes>"
      ]
     },
     "metadata": {},
     "output_type": "display_data"
    },
    {
     "name": "stdout",
     "output_type": "stream",
     "text": [
      "Mean variation error: 0.009068105785290272\n"
     ]
    }
   ],
   "source": [
    "bsize = 80   # The batch size on which the optimization is started\n",
    "K, X, E, rho, res_list = algorithm.run_mGST(y_sampled, J, l, d, r, rK, n_povm, bsize, meas_samples, method='SFN',\n",
    "                                  max_inits=10, max_iter=300, final_iter=30,\n",
    "                                  target_rel_prec=1e-4)\n",
    "plt.semilogy(res_list)   # plot the objective function over the iterations\n",
    "plt.show()\n",
    "print('Mean variation error:', additional_fns.MVE(X_true, E_true, rho_true, X, E,\n",
    "      rho, d, l, n_povm)[0])   # output the final mean variation error\n"
   ]
  }
 ],
 "metadata": {
  "kernelspec": {
   "display_name": "Python 3 (ipykernel)",
   "language": "python",
   "name": "python3"
  },
  "language_info": {
   "codemirror_mode": {
    "name": "ipython",
    "version": 3
   },
   "file_extension": ".py",
   "mimetype": "text/x-python",
   "name": "python",
   "nbconvert_exporter": "python",
   "pygments_lexer": "ipython3",
   "version": "3.8.10"
  }
 },
 "nbformat": 4,
 "nbformat_minor": 5
}
