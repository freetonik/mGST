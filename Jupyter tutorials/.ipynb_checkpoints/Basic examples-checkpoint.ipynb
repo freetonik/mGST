{
 "cells": [
  {
   "cell_type": "markdown",
   "id": "19498ba6-106b-4ef2-b798-ca7d0a6fce8a",
   "metadata": {},
   "source": [
    "# Single qubit example and algorithm usage\n",
    "\n",
    "In this notebook we use simulated measurements to show how the mGST algorithm is used. <br>\n",
    "First we will make sure all the necessary functions are available by running the following python scripts. "
   ]
  },
  {
   "cell_type": "code",
   "execution_count": 1,
   "id": "6e58b942-2370-4d00-a8f0-88704b080a55",
   "metadata": {},
   "outputs": [],
   "source": [
    "%run ../mGST/additional_fns\n",
    "%run ../mGST/low_level_jit\n",
    "%run ../mGST/algorithm\n",
    "%run ../mGST/compatibility\n",
    "%run ../mGST/optimization"
   ]
  },
  {
   "cell_type": "markdown",
   "id": "c3916631-d169-4823-8e76-200d2c7a7040",
   "metadata": {},
   "source": [
    "Next up, let's create a random gate set and define the parameters that we need:"
   ]
  },
  {
   "cell_type": "code",
   "execution_count": 2,
   "id": "bc5a4c05-f8c4-46cd-ad54-4fc6a2544e66",
   "metadata": {},
   "outputs": [],
   "source": [
    "pdim = 2   # physical dimension\n",
    "r = pdim**2   # rank of the gate superoperators \n",
    "\n",
    "l = 8  # maximum number of gates in each measurement sequence\n",
    "d = 4  # number of gates\n",
    "rK_true = 1   # rank of simulated gates\n",
    "rK = 1   # rank of the model estimate\n",
    "n_povm = 2   # number of POVM-elements"
   ]
  },
  {
   "cell_type": "markdown",
   "id": "e7c32918-9878-473f-a1b8-cc8ea93f3fd6",
   "metadata": {},
   "source": [
    "Now we can use some of the functions we imported to generate a random gate set.\n",
    "The function *randKrausSet_Haar(d,r,rK_true)* generates d sets of Kraus operators, where each set is found by taking a Haar random unitary and using a subset of its columns the generate an isometry of shape (rK_true*pdim) x (pdim). <br>\n",
    "For the true state and measurement we can simply take a random positive semidefinite matrix."
   ]
  },
  {
   "cell_type": "code",
   "execution_count": 3,
   "id": "21ec48d1-7a63-487f-b532-3d8b10165da7",
   "metadata": {},
   "outputs": [],
   "source": [
    "K_true = randKrausSet_Haar(d,r,rK_true)   # tensor of random Kraus operators\n",
    "X_true = np.einsum('ijkl,ijnm -> iknlm', K_true, K_true.conj()).reshape(d,r,r)   # tensor of superoperators\n",
    "rho_true = randpsd(r)   # random initial state\n",
    "E1 = randpsd(r)   # random POVM element\n",
    "E_true = np.array([E1, np.eye(pdim).reshape(-1)-E1])   # Full POVM"
   ]
  },
  {
   "cell_type": "markdown",
   "id": "b58c0916-19e5-4999-8d6a-9b9c9f73db7e",
   "metadata": {},
   "source": [
    "Next up we need some gate sequence instructions and simulated measurements. Each gate is identified by an index between 0 and d-1, meaning a gate sequences can most simply be represented by a list of gate indices. We write a full set containing *N* many sequence instructions as a numpy array *J* of shape *N* x *d*. The resulting state after each sequences is measured *meas_samples*-times with a POVM consisting of *n_povm* many alements. Therefore we will have *n_povm*-many estimated probabilites per sequences and we can collect all results in a numpy array *y* of shape *n_povm* x *N*. "
   ]
  },
  {
   "cell_type": "code",
   "execution_count": 4,
   "id": "179157b5-797b-4e15-9609-3a25d65f8346",
   "metadata": {
    "tags": []
   },
   "outputs": [],
   "source": [
    "N = 100\n",
    "meas_samples = 1e5\n",
    "J_rand = np.array(random.sample(range(d**l), N))   # generate random numbers between 0 and $d^l - 1$\n",
    "J = np.array([local_basis(ind,d,l) for ind in J_rand])   # turn random numbers into gate instructions\n",
    "y = np.real(np.array([[E_true[i].conj()@contract(X_true,j)@rho_true for j in J] for i in range(n_povm)]))   # obtain ideal output probabilities\n",
    "y_sampled = sampled_measurements(y,meas_samples).copy()   # simulate finite sampling statistics"
   ]
  },
  {
   "cell_type": "markdown",
   "id": "f86a9b83-7c9f-4cb3-972e-b9886f8ab0c2",
   "metadata": {},
   "source": [
    "For our first test we use an initialitation where the state preparation and measurement are random, but the gate are just rotated versions of the ideal gates. "
   ]
  },
  {
   "cell_type": "code",
   "execution_count": 5,
   "id": "427f6690-4f7a-4ea4-a86a-b9d10ebed338",
   "metadata": {},
   "outputs": [],
   "source": [
    "delta = 0.5  # unitary noise parameter\n",
    "\n",
    "# Generate noisy version of true gate set\n",
    "K0 = np.zeros((d,rK,pdim,pdim)).astype(np.complex128)\n",
    "for i in range(d):\n",
    "    U_p = expm(delta*1j*randHerm(pdim)).astype(np.complex128)   # unitary noise\n",
    "    K0[i] = np.einsum('jkl,lm',K_true[i],U_p)\n",
    "X0 = np.einsum('ijkl,ijnm -> iknlm', K0, K0.conj()).reshape(d,r,r) \n",
    "\n",
    "rho0 = randpsd(r).copy()   # random initial state\n",
    "A0 = randKrausSet(1,r,n_povm)[0].conj()   # random POVM decomposition\n",
    "E0 = np.array([(A0[i].T.conj()@A0[i]).reshape(-1) for i in range(n_povm)]).copy()"
   ]
  },
  {
   "cell_type": "markdown",
   "id": "6552492c-7d9d-45f3-94e3-57b80c9db224",
   "metadata": {},
   "source": [
    "Now it's time to run mGST on the data set. Note that if the algorithm is run for the first time on a new machine it can take up to a few minutes to compile the low level functions (such as derivatives). <br>\n",
    "The main function is called *run_mGST*, for information it's variables and outputs we can call the help(run_mGST):"
   ]
  },
  {
   "cell_type": "code",
   "execution_count": null,
   "id": "c1f67d91-69ba-4ffb-8ee4-2acaf8ef6bb8",
   "metadata": {},
   "outputs": [],
   "source": [
    "help(run_mGST)"
   ]
  },
  {
   "cell_type": "code",
   "execution_count": 6,
   "id": "9bf72135-db94-40f3-b7c7-e15f0a67f875",
   "metadata": {},
   "outputs": [
    {
     "name": "stdout",
     "output_type": "stream",
     "text": [
      "Initialization successful, improving estimate over full data....\n",
      "#################\n",
      "\t Convergence crit. satisfied\n",
      "\t Final objective function value 2.615105348046682e-06 with # of initializations: 1 \n",
      " \t Total runtime: 10.532119035720825\n",
      "MVE: 0.0005509921532491616\n"
     ]
    },
    {
     "data": {
      "image/png": "[encoded data removed]",
      "text/plain": [
       "<Figure size 432x288 with 1 Axes>"
      ]
     },
     "metadata": {
      "needs_background": "light"
     },
     "output_type": "display_data"
    }
   ],
   "source": [
    "bsize = 50   # The batch size on which the optimization is started\n",
    "K,X,E,rho,res_list = run_mGST(y_sampled,J,l,d,r,rK, n_povm, bsize, meas_samples, method = 'SFN',\n",
    "                     max_inits = 3, max_iter = 30, final_iter = 10, \n",
    "                     target_rel_prec = 1e-4, init = [K0,E0,rho0])\n",
    "plt.semilogy(res_list)   # plot the objective function over the iterations\n",
    "print('MVE:', MVE(X_true,E_true,rho_true,X,E,rho,d,l, n_povm)[0])   # output the final mean variation error"
   ]
  },
  {
   "cell_type": "markdown",
   "id": "0421e024-ce89-4ee9-8aef-16e86ee4194d",
   "metadata": {},
   "source": [
    "## XYI gate set $\\{\\mathrm{Id}, e^{i \\frac{\\alpha}{2} \\sigma_y}, e^{i \\frac{\\alpha}{2} \\sigma_x}\\}$ from random initialization\n",
    "The XYI gate set is a minimal gate set that is tomographically complete when applied to the $|0><0|$ state and constitutes a standard example for gate set tomography. In this example we don't give an initialization to mGST, resulting in a random initialization to be generated automatically. As a result, more than one initialization attempt might be necessary to converge to a satisfying objective funtion value. We can tweak the number of allowerd initializations with the *max_inits* parameter."
   ]
  },
  {
   "cell_type": "code",
   "execution_count": 10,
   "id": "43864988-5fb9-4760-b959-e24d12e8e3fd",
   "metadata": {},
   "outputs": [],
   "source": [
    "from pygsti.modelpacks import smq1Q_XYI as std\n",
    "mdl_datagen = std.target_model().depolarize(0.01).randomize_with_unitary(0.01)   # use pygsti-function to add noise\n",
    "X_true, E_true, rho_true = pygsti_model_to_arrays(mdl_datagen, basis = 'std')   # turn pygsti model object into numpy arrays\n",
    "\n",
    "pdim = 2\n",
    "r = pdim**2\n",
    "\n",
    "l = 7\n",
    "d = 3\n",
    "\n",
    "n_povm = 2 \n",
    "rK = 2"
   ]
  },
  {
   "cell_type": "code",
   "execution_count": 11,
   "id": "cfce7854-2725-49f8-b80d-e8eb5d0042aa",
   "metadata": {},
   "outputs": [],
   "source": [
    "sequence_count = 100\n",
    "meas_samples = 1e5\n",
    "J_rand = np.array(random.sample(range(d**l), sequence_count))\n",
    "J = np.array([local_basis(ind,d,l) for ind in J_rand])\n",
    "y = np.real(np.array([[E_true[i].conj()@contract(X_true,j)@rho_true for j in J] for i in range(n_povm)]))\n",
    "y_sampled = sampled_measurements(y,meas_samples).copy()"
   ]
  },
  {
   "cell_type": "code",
   "execution_count": 12,
   "id": "109ef049-4ff8-4e17-84d5-363bea018470",
   "metadata": {},
   "outputs": [
    {
     "name": "stdout",
     "output_type": "stream",
     "text": [
      "Run  0 failed, trying new initialization...\n",
      "Initialization successful, improving estimate over full data....\n",
      "#################\n",
      "\t Convergence crit. satisfied\n",
      "\t Final objective function value 4.138231355917263e-06 with # of initializations: 2 \n",
      " \t Total runtime: 112.615487575531\n",
      "MVE: (0.001810443561951306, 0.009914306144880463)\n"
     ]
    },
    {
     "data": {
      "image/png": "[encoded data removed]",
      "text/plain": [
       "<Figure size 432x288 with 1 Axes>"
      ]
     },
     "metadata": {
      "needs_background": "light"
     },
     "output_type": "display_data"
    }
   ],
   "source": [
    "%run ../mGST/algorithm\n",
    "bsize = 50\n",
    "t0 = time.time()\n",
    "K,X,E,rho,res_list = run_mGST(y_sampled,J,l,d,r,rK, n_povm, bsize, meas_samples, method = 'SFN',\n",
    "                     max_inits = 5, max_iter = 100, final_iter = 10, \n",
    "                     target_rel_prec = 1e-4)\n",
    "plt.semilogy(res_list)\n",
    "print('MVE:', MVE(X_true,E_true,rho_true,X,E,rho,d,l, n_povm))"
   ]
  },
  {
   "cell_type": "code",
   "execution_count": null,
   "id": "526c6472-718a-46d1-a64a-6ddde4357e87",
   "metadata": {},
   "outputs": [],
   "source": []
  }
 ],
 "metadata": {
  "kernelspec": {
   "display_name": "Python 3",
   "language": "python",
   "name": "python3"
  },
  "language_info": {
   "codemirror_mode": {
    "name": "ipython",
    "version": 3
   },
   "file_extension": ".py",
   "mimetype": "text/x-python",
   "name": "python",
   "nbconvert_exporter": "python",
   "pygments_lexer": "ipython3",
   "version": "3.8.10"
  }
 },
 "nbformat": 4,
 "nbformat_minor": 5
}
