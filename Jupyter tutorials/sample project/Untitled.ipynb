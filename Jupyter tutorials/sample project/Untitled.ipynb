{
 "cells": [
  {
   "cell_type": "code",
   "execution_count": 10,
   "id": "b91f2261-3ec1-4ac6-a560-33721fd0e554",
   "metadata": {},
   "outputs": [],
   "source": [
    "from mGST import compatibility,algorithm, optimization, low_level_jit, additional_fns\n",
    "from mGST.reporting import uncertainty, reporting\n",
    "\n",
    "import pickle as pickle\n",
    "from pygsti.report import reportables as rptbl #Needs cvxpy!\n",
    "from pygsti.modelpacks import smq1Q_XYI as std\n",
    "import pygsti\n",
    "from argparse import Namespace\n",
    "from itertools import product\n",
    "\n",
    "import numpy as np\n",
    "import pandas as pd\n",
    "import numpy.linalg as la\n",
    "import json\n",
    "import pandas\n",
    "import matplotlib.pyplot as plt\n",
    "from os import listdir\n",
    "from exp_design.target_gates import *"
   ]
  },
  {
   "cell_type": "code",
   "execution_count": 11,
   "id": "2d4ac25d-7bba-4d34-b336-2bed0a9ac7fa",
   "metadata": {},
   "outputs": [],
   "source": [
    "folder_name = \"exp_data\"\n",
    "filenames = listdir(path = folder_name)\n",
    "datafile_names  = [s for s in filenames if \".txt\" in s]"
   ]
  },
  {
   "cell_type": "code",
   "execution_count": 13,
   "id": "190a4c9c-b4e8-459c-9add-4e1ea1da65b4",
   "metadata": {},
   "outputs": [],
   "source": [
    "# Import sequence list\n",
    "J_list = pandas.read_csv(\"exp_design/sequences.csv\", delimiter=\",\", names = list(range(32))).values\n",
    "N = J_list.shape[0] + 1\n",
    "J_list = [[int(x) for x in J_list[i,:] if str(x) != 'nan'] for i in range(N-1)]\n",
    "J_list.insert(0,[])\n",
    "l_max = np.max([len(J_list[i]) for i in range(N)])\n",
    "\n",
    "J = []\n",
    "for i in range(N):\n",
    "    J.append(list(np.pad(J_list[i],(0,l_max-len(J_list[i])),'constant',constant_values=-1)))\n",
    "J = np.array(J).astype(int)[:,::-1]"
   ]
  },
  {
   "cell_type": "code",
   "execution_count": null,
   "id": "1a196005-12fa-4132-aa10-685230d2a128",
   "metadata": {},
   "outputs": [],
   "source": [
    "max_samples = 2000 # Maximum number of samples per sequence and per file\n",
    "data = np.zeros((len(J),max_samples+1))\n",
    "for filename in datafile_names:\n",
    "    print(filename)\n",
    "    if filename == datafile_names[0]:\n",
    "        data_file = pandas.read_csv(folder_name + \"/\" + filename, sep = r',|: ', engine = 'python', dtype = str, names = list(range(max_samples)))\n",
    "        data_file.set_index(0, inplace=True)\n",
    "    else:\n",
    "        data_file_new = pandas.read_csv(folder_name + \"/\" + filename, sep = r',|: ', engine = 'python', dtype = str, names = list(range(max_samples)))\n",
    "        data_file_new.set_index(0, inplace=True)\n",
    "        data_file = pandas.concat([data_file,data_file_new], axis = 1, join = 'outer')\n",
    "        data_file.dropna(axis = 1, how = 'all', inplace = True)\n",
    "    #data_file = data_file.drop(data_file.columns[0], axis=1)\n",
    "    # data[:len(data_file),:] = data_file\n",
    "data_file.sort_values(by = 0, axis = 0, key = np.int32, inplace = True)"
   ]
  },
  {
   "cell_type": "code",
   "execution_count": null,
   "id": "5a703ec0-228e-4c7b-8baf-793caf74febb",
   "metadata": {},
   "outputs": [],
   "source": [
    "basis_dict = {'00':0, '01':0, '10':1, '11':1}\n",
    "# zero_fidelity = 0.995\n",
    "\n",
    "y = np.zeros((pdim,N))\n",
    "sample_counts = []\n",
    "for i in range(N):\n",
    "    valid_samples = (data_file.values[i,:][~np.isnan(data_file.values[i,:].astype(float))])[:180] ### !!! Don't forget to change this back !!!\n",
    "    for k in range(len(valid_samples)): \n",
    "        j = basis_dict[valid_samples[k]]\n",
    "        y[j,i] += 1\n",
    "\n",
    "    y[:,i] = y[:,i]/(len(valid_samples))\n",
    "    sample_counts.append(len(valid_samples))\n",
    "    \n",
    "meas_samples = int(np.average(sample_counts))\n",
    "print(meas_samples)"
   ]
  }
 ],
 "metadata": {
  "kernelspec": {
   "display_name": "Python 3",
   "language": "python",
   "name": "python3"
  },
  "language_info": {
   "codemirror_mode": {
    "name": "ipython",
    "version": 3
   },
   "file_extension": ".py",
   "mimetype": "text/x-python",
   "name": "python",
   "nbconvert_exporter": "python",
   "pygments_lexer": "ipython3",
   "version": "3.8.10"
  }
 },
 "nbformat": 4,
 "nbformat_minor": 5
}
