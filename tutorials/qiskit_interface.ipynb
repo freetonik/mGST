{
 "cells": [
  {
   "cell_type": "markdown",
   "id": "19498ba6-106b-4ef2-b798-ca7d0a6fce8a",
   "metadata": {},
   "source": [
    "# Using the qiskit interface of the mGST\n",
    "\n",
    "In this notebook we will generate random sequences of gates, create qiskit circuits from them, and simulate them on a qiskit simulator.\n",
    "Then we estimate the gates."
   ]
  },
  {
   "cell_type": "code",
   "execution_count": 1,
   "id": "c1a2821e",
   "metadata": {},
   "outputs": [],
   "source": [
    "%load_ext autoreload\n",
    "%autoreload 2\n",
    "\n",
    "import numpy as np\n",
    "from mGST import qiskit_interface\n",
    "from qiskit.circuit.library import RXGate, RYGate, RZZGate, IGate\n",
    "from reporting import job_counts_to_mGST_format"
   ]
  },
  {
   "cell_type": "code",
   "execution_count": 3,
   "id": "29d13ce6",
   "metadata": {},
   "outputs": [],
   "source": [
    "# Example usage with RX, RY, and RZZ gates\n",
    "rx_pi_2 = RXGate(np.pi / 2)\n",
    "rx_pi = RXGate(np.pi)\n",
    "ry_pi_2 = RYGate(np.pi / 2)\n",
    "ry_pi = RYGate(np.pi)\n",
    "rzz_pi_2 = RZZGate(np.pi / 2)\n",
    "idle_gate = IGate()\n",
    "\n",
    "gate_set = [idle_gate, rx_pi_2, ry_pi_2, rx_pi, ry_pi]\n",
    "K_true = qiskit_interface.qiskit_gate_to_operator(gate_set)"
   ]
  },
  {
   "cell_type": "code",
   "execution_count": 12,
   "id": "8af13711",
   "metadata": {},
   "outputs": [],
   "source": [
    "sequence_number = 100  # Number of sequences\n",
    "shots = 1000  # Number of samples per sequences\n",
    "sequence_length = 7\n",
    "n_qubits = 1 # The number \n",
    "active_qubits = [0]"
   ]
  },
  {
   "cell_type": "code",
   "execution_count": 13,
   "id": "07afcc8b",
   "metadata": {},
   "outputs": [],
   "source": [
    "gate_sequences = qiskit_interface.get_gate_sequence(sequence_number, sequence_length, len(gate_set))\n",
    "qiskit_circuits = qiskit_interface.get_qiskit_circuits(gate_sequences, gate_set, n_qubits, active_qubits)\n",
    "sequence_results = qiskit_interface.simulate_circuit(qiskit_circuits, shots)"
   ]
  },
  {
   "cell_type": "code",
   "execution_count": 14,
   "id": "fd0e18b9-9921-4687-b799-b4959a748ed6",
   "metadata": {},
   "outputs": [],
   "source": [
    "from qiskit_aer import Aer\n",
    "simulator = Aer.get_backend(\"qasm_simulator\")\n",
    "sequence_results = simulator.run(qiskit_circuits, shots=shots).result().get_counts()"
   ]
  },
  {
   "cell_type": "code",
   "execution_count": 15,
   "id": "d391152a-8ba9-4a44-bc04-03fa46bf116c",
   "metadata": {},
   "outputs": [
    {
     "name": "stdout",
     "output_type": "stream",
     "text": [
      "[{'1 0': 469, '0 0': 531}, {'1 0': 518, '0 0': 482}, {'0 0': 493, '1 0': 507}, {'1 0': 493, '0 0': 507}, {'1 0': 507, '0 0': 493}, {'0 0': 516, '1 0': 484}, {'1 0': 491, '0 0': 509}, {'0 0': 1000}, {'1 0': 499, '0 0': 501}, {'0 0': 500, '1 0': 500}, {'1 0': 1000}, {'1 0': 464, '0 0': 536}, {'0 0': 485, '1 0': 515}, {'0 0': 501, '1 0': 499}, {'1 0': 1000}, {'0 0': 1000}, {'0 0': 512, '1 0': 488}, {'1 0': 1000}, {'1 0': 502, '0 0': 498}, {'1 0': 493, '0 0': 507}, {'1 0': 1000}, {'1 0': 517, '0 0': 483}, {'1 0': 1000}, {'1 0': 511, '0 0': 489}, {'0 0': 496, '1 0': 504}, {'0 0': 499, '1 0': 501}, {'1 0': 1000}, {'0 0': 503, '1 0': 497}, {'1 0': 1000}, {'1 0': 1000}, {'1 0': 479, '0 0': 521}, {'1 0': 478, '0 0': 522}, {'0 0': 523, '1 0': 477}, {'1 0': 513, '0 0': 487}, {'0 0': 502, '1 0': 498}, {'1 0': 1000}, {'1 0': 1000}, {'1 0': 531, '0 0': 469}, {'0 0': 501, '1 0': 499}, {'1 0': 513, '0 0': 487}, {'0 0': 1000}, {'0 0': 492, '1 0': 508}, {'1 0': 1000}, {'1 0': 499, '0 0': 501}, {'1 0': 519, '0 0': 481}, {'0 0': 490, '1 0': 510}, {'0 0': 1000}, {'0 0': 1000}, {'0 0': 522, '1 0': 478}, {'1 0': 513, '0 0': 487}, {'0 0': 1000}, {'0 0': 1000}, {'0 0': 502, '1 0': 498}, {'0 0': 512, '1 0': 488}, {'1 0': 486, '0 0': 514}, {'1 0': 493, '0 0': 507}, {'0 0': 1000}, {'0 0': 506, '1 0': 494}, {'0 0': 511, '1 0': 489}, {'1 0': 1000}, {'1 0': 518, '0 0': 482}, {'1 0': 1000}, {'1 0': 1000}, {'1 0': 1000}, {'1 0': 499, '0 0': 501}, {'0 0': 519, '1 0': 481}, {'0 0': 495, '1 0': 505}, {'0 0': 503, '1 0': 497}, {'1 0': 1000}, {'1 0': 495, '0 0': 505}, {'0 0': 474, '1 0': 526}, {'1 0': 497, '0 0': 503}, {'0 0': 505, '1 0': 495}, {'1 0': 499, '0 0': 501}, {'1 0': 501, '0 0': 499}, {'1 0': 497, '0 0': 503}, {'0 0': 483, '1 0': 517}, {'0 0': 476, '1 0': 524}, {'0 0': 472, '1 0': 528}, {'0 0': 1000}, {'0 0': 468, '1 0': 532}, {'1 0': 510, '0 0': 490}, {'1 0': 1000}, {'0 0': 516, '1 0': 484}, {'0 0': 499, '1 0': 501}, {'1 0': 1000}, {'0 0': 1000}, {'0 0': 508, '1 0': 492}, {'0 0': 532, '1 0': 468}, {'0 0': 495, '1 0': 505}, {'1 0': 497, '0 0': 503}, {'0 0': 1000}, {'0 0': 1000}, {'0 0': 509, '1 0': 491}, {'1 0': 497, '0 0': 503}, {'0 0': 1000}, {'1 0': 1000}, {'1 0': 1000}, {'0 0': 1000}, {'0 0': 500, '1 0': 500}]\n"
     ]
    }
   ],
   "source": [
    "print(sequence_results)"
   ]
  },
  {
   "cell_type": "code",
   "execution_count": 6,
   "id": "f8427deb",
   "metadata": {
    "collapsed": true,
    "jupyter": {
     "outputs_hidden": true
    }
   },
   "outputs": [
    {
     "name": "stdout",
     "output_type": "stream",
     "text": [
      "Starting mGST optimization...\n",
      "100%|████████████████████████████████████████████████████████████████████████████████| 100/100 [01:04<00:00,  1.56it/s]\n",
      "Success threshold not reached, attempting optimization over full data set...\n",
      "100%|██████████████████████████████████████████████████████████████████████████████████| 50/50 [01:01<00:00,  1.23s/it]\n",
      "\t Convergence criterion not satisfied, try increasing max_iter or using new initializations.\n",
      "\t Final objective 2.50e-1 with # of initializations: 1 in time 125.71s\n",
      "Mean variation error: 0.1676637696189355\n"
     ]
    },
    {
     "data": {
      "image/png": "[encoded data removed]",
      "text/plain": [
       "<Figure size 640x480 with 1 Axes>"
      ]
     },
     "metadata": {},
     "output_type": "display_data"
    },
    {
     "data": {
      "text/plain": [
       "(array([[[[ 8.92364611e-03+2.13481874e-02j,\n",
       "            2.89440007e-02+4.18580214e-02j],\n",
       "          [-1.92610525e-02+7.26961199e-02j,\n",
       "           -7.40875400e-03+4.56144919e-02j]],\n",
       " \n",
       "         [[ 6.35618961e-03+2.40503104e-02j,\n",
       "           -2.58670952e-02+6.02591820e-02j],\n",
       "          [-4.88164819e-02+8.98751549e-02j,\n",
       "           -3.68412493e-03+5.46190789e-02j]],\n",
       " \n",
       "         [[ 2.27751169e-03+2.59730581e-02j,\n",
       "            9.56660887e-02+4.83035034e-02j],\n",
       "          [-6.89850026e-02+1.07356656e-01j,\n",
       "            1.76057040e-02+4.19821501e-02j]],\n",
       " \n",
       "         [[ 9.79627284e-01-7.01401436e-02j,\n",
       "            1.80960571e-02+1.99331546e-03j],\n",
       "          [-3.41722703e-02-2.88632342e-03j,\n",
       "            9.83004536e-01-8.82634600e-02j]]],\n",
       " \n",
       " \n",
       "        [[[-2.50634197e-01-4.38669604e-02j,\n",
       "            2.90236799e-02-3.55059588e-01j],\n",
       "          [ 7.29558377e-05-2.17601145e-01j,\n",
       "           -1.66518498e-01-3.66741429e-02j]],\n",
       " \n",
       "         [[-2.01778582e-01-5.10958748e-02j,\n",
       "           -1.61066643e-02-3.60412685e-01j],\n",
       "          [ 1.31185842e-02-2.27542574e-01j,\n",
       "           -1.92069084e-01-2.72265358e-03j]],\n",
       " \n",
       "         [[-1.69792272e-01-6.53706668e-02j,\n",
       "            3.53525261e-02-3.36709609e-01j],\n",
       "          [ 1.22574265e-02-1.73678752e-01j,\n",
       "           -1.41628504e-01-5.46364667e-02j]],\n",
       " \n",
       "         [[ 8.31923689e-01+1.08349876e-01j,\n",
       "           -4.77667731e-03-2.67472248e-01j],\n",
       "          [-1.54622291e-02-1.58561432e-01j,\n",
       "            6.76053492e-01+1.03357417e-01j]]],\n",
       " \n",
       " \n",
       "        [[[-3.80343400e-02-1.80787442e-02j,\n",
       "           -3.02133618e-02-7.41153347e-03j],\n",
       "          [ 1.27740828e-02-6.91000503e-02j,\n",
       "            4.07764214e-03-6.69635214e-02j]],\n",
       " \n",
       "         [[-8.21736078e-03-3.25157564e-02j,\n",
       "            2.30583665e-02+1.67355855e-03j],\n",
       "          [ 4.04889336e-02-6.60708243e-02j,\n",
       "           -9.54633486e-03-3.72355390e-02j]],\n",
       " \n",
       "         [[ 7.60461935e-03-1.60645199e-02j,\n",
       "           -9.87963554e-03-1.98436864e-02j],\n",
       "          [ 1.10987529e-02-6.08996902e-02j,\n",
       "           -3.97649196e-02-7.48180642e-02j]],\n",
       " \n",
       "         [[-7.02123572e-01+5.42688713e-02j,\n",
       "            7.03590051e-01-6.85918933e-02j],\n",
       "          [-6.94377551e-01+6.26768581e-02j,\n",
       "           -6.93110856e-01+6.85750446e-02j]]],\n",
       " \n",
       " \n",
       "        [[[ 1.77878558e-02-1.12422951e-02j,\n",
       "            1.88084930e-02+8.29420823e-02j],\n",
       "          [ 4.45486398e-03-2.25134239e-02j,\n",
       "            1.45531001e-02-2.38760740e-02j]],\n",
       " \n",
       "         [[ 1.71315911e-02-1.38813088e-02j,\n",
       "            1.07765088e-02+8.09989328e-02j],\n",
       "          [ 1.26762429e-02-1.80829119e-02j,\n",
       "           -1.02472210e-02-2.91613765e-02j]],\n",
       " \n",
       "         [[-6.00932643e-02-1.66760097e-04j,\n",
       "           -1.08227737e-02+8.18725501e-02j],\n",
       "          [ 3.19202633e-02-1.78515319e-02j,\n",
       "            1.64839545e-03-1.02010437e-02j]],\n",
       " \n",
       "         [[-4.80481359e-02+9.67084668e-03j,\n",
       "           -9.66953586e-01+2.00057137e-01j],\n",
       "          [-9.77219787e-01+1.89069226e-01j,\n",
       "            4.75712686e-02-1.18530127e-02j]]],\n",
       " \n",
       " \n",
       "        [[[ 3.40563201e-02-1.43006543e-02j,\n",
       "            6.08773010e-03-1.57399301e-02j],\n",
       "          [ 1.31365245e-02+3.87481055e-02j,\n",
       "            2.42873690e-02-2.51987258e-02j]],\n",
       " \n",
       "         [[-1.15935318e-02+7.49854436e-04j,\n",
       "           -2.14654017e-02-1.52235945e-02j],\n",
       "          [-1.10808718e-02+4.28652313e-02j,\n",
       "            6.88835194e-03-5.49894492e-02j]],\n",
       " \n",
       "         [[-7.55390044e-02-1.61357384e-02j,\n",
       "            2.66399585e-02-1.56776111e-02j],\n",
       "          [ 2.16951808e-02+3.57319237e-02j,\n",
       "            5.93118037e-02+9.06494106e-03j]],\n",
       " \n",
       "         [[-7.37199842e-02+9.36913220e-03j,\n",
       "            9.68761769e-01-2.13919836e-01j],\n",
       "          [-9.69305419e-01+2.05127089e-01j,\n",
       "           -7.39563997e-02+2.09853264e-02j]]]]),\n",
       " array([[[ 0.96642324+0.00000000e+00j,  0.02149676-1.60799185e-03j,\n",
       "           0.02149676+1.60799185e-03j,  0.01870679+0.00000000e+00j],\n",
       "         [-0.02741108+3.82893525e-04j,  0.97249724+1.68778888e-02j,\n",
       "           0.00712601-1.71456719e-02j,  0.02640622-4.87392654e-05j],\n",
       "         [-0.02741108-3.82893525e-04j,  0.00712601+1.71456719e-02j,\n",
       "           0.97249724-1.68778888e-02j,  0.02640622+4.87392654e-05j],\n",
       "         [ 0.03357676+0.00000000e+00j, -0.02149676+1.60799185e-03j,\n",
       "          -0.02149676-1.60799185e-03j,  0.98129321+0.00000000e+00j]],\n",
       " \n",
       "        [[ 0.84500665+0.00000000e+00j,  0.01302057+3.53407082e-04j,\n",
       "           0.01302057-3.53407082e-04j,  0.44325379+0.00000000e+00j],\n",
       "         [-0.00226457-1.17991703e-03j,  0.68348128-5.37624087e-03j,\n",
       "           0.2604587 +3.28773596e-03j, -0.00522143-1.34393735e-03j],\n",
       "         [-0.00226457+1.17991703e-03j,  0.2604587 -3.28773596e-03j,\n",
       "           0.68348128+5.37624087e-03j, -0.00522143+1.34393735e-03j],\n",
       "         [ 0.15499335+0.00000000e+00j, -0.01302057-3.53407082e-04j,\n",
       "          -0.01302057+3.53407082e-04j,  0.55674621+0.00000000e+00j]],\n",
       " \n",
       "        [[ 0.49913677+0.00000000e+00j, -0.49644668-1.01390130e-02j,\n",
       "          -0.49644668+1.01390130e-02j,  0.50173745+0.00000000e+00j],\n",
       "         [ 0.49458199+1.89006610e-03j,  0.49361519+9.12537515e-03j,\n",
       "          -0.49080821+2.11677567e-03j, -0.4904014 -1.86782625e-03j],\n",
       "         [ 0.49458199-1.89006610e-03j, -0.49080821-2.11677567e-03j,\n",
       "           0.49361519-9.12537515e-03j, -0.4904014 +1.86782625e-03j],\n",
       "         [ 0.50086323+0.00000000e+00j,  0.49644668+1.01390130e-02j,\n",
       "           0.49644668-1.01390130e-02j,  0.49826255+0.00000000e+00j]],\n",
       " \n",
       "        [[ 0.00694236+0.00000000e+00j,  0.04749411+1.95886118e-03j,\n",
       "           0.04749411-1.95886118e-03j,  0.99575245+0.00000000e+00j],\n",
       "         [ 0.04766736-9.59989865e-04j, -0.00174116+1.80169906e-04j,\n",
       "           0.9778322 -8.24386467e-03j, -0.05340259-7.79405330e-04j],\n",
       "         [ 0.04766736+9.59989865e-04j,  0.9778322 +8.24386467e-03j,\n",
       "          -0.00174116-1.80169906e-04j, -0.05340259+7.79405330e-04j],\n",
       "         [ 0.99305764+0.00000000e+00j, -0.04749411-1.95886118e-03j,\n",
       "          -0.04749411+1.95886118e-03j,  0.00424755+0.00000000e+00j]],\n",
       " \n",
       "        [[ 0.01298823+0.00000000e+00j, -0.07451087-8.05144197e-03j,\n",
       "          -0.07451087+8.05144197e-03j,  0.98619386+0.00000000e+00j],\n",
       "         [ 0.07121752+7.37067290e-03j,  0.00208846+4.60341457e-04j,\n",
       "          -0.98383365+7.98850370e-03j, -0.07346361-7.19451265e-03j],\n",
       "         [ 0.07121752-7.37067290e-03j, -0.98383365-7.98850370e-03j,\n",
       "           0.00208846-4.60341457e-04j, -0.07346361+7.19451265e-03j],\n",
       "         [ 0.98701177+0.00000000e+00j,  0.07451087+8.05144197e-03j,\n",
       "           0.07451087-8.05144197e-03j,  0.01380614+0.00000000e+00j]]]),\n",
       " array([[ 0.50392949+0.j        ,  0.00200936+0.49998052j,\n",
       "          0.00200936-0.49998052j,  0.49607051+0.j        ],\n",
       "        [ 0.49607051+0.j        , -0.00200936-0.49998052j,\n",
       "         -0.00200936+0.49998052j,  0.50392949+0.j        ]]),\n",
       " array([ 0.98358623+0.j        , -0.1270032 -0.00381351j,\n",
       "        -0.1270032 +0.00381351j,  0.01641377+0.j        ]))"
      ]
     },
     "execution_count": 6,
     "metadata": {},
     "output_type": "execute_result"
    }
   ],
   "source": [
    "qiskit_interface.get_gate_estimation(gate_set, gate_sequences, len(gate_set), sequence_length,\n",
    "                                     sequence_results, shots)"
   ]
  },
  {
   "cell_type": "code",
   "execution_count": null,
   "id": "221de299-0048-4cdb-9da5-02afcd5d5ca0",
   "metadata": {},
   "outputs": [],
   "source": []
  }
 ],
 "metadata": {
  "kernelspec": {
   "display_name": "Python 3 (ipykernel)",
   "language": "python",
   "name": "python3"
  },
  "language_info": {
   "codemirror_mode": {
    "name": "ipython",
    "version": 3
   },
   "file_extension": ".py",
   "mimetype": "text/x-python",
   "name": "python",
   "nbconvert_exporter": "python",
   "pygments_lexer": "ipython3",
   "version": "3.11.9"
  }
 },
 "nbformat": 4,
 "nbformat_minor": 5
}
