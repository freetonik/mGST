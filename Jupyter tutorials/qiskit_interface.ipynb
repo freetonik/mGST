{
 "cells": [
  {
   "cell_type": "code",
   "execution_count": 2,
   "metadata": {},
   "outputs": [],
   "source": [
    "\n",
    "%load_ext autoreload\n",
    "%autoreload 2\n",
    "import numpy as np\n",
    "import matplotlib.pyplot as plt\n",
    "from scipy.linalg import expm\n",
    "from mGST import additional_fns, algorithm, qiskit_interface\n",
    "from qiskit.circuit.library import RXGate, RYGate, RZZGate, IGate"
   ]
  },
  {
   "cell_type": "code",
   "execution_count": null,
   "metadata": {},
   "outputs": [],
   "source": [
    "# Example usage with RX, RY, and RZZ gates\n",
    "rx_pi_2 = RXGate(np.pi / 2)\n",
    "rx_pi = RXGate(np.pi)\n",
    "ry_pi_2 = RYGate(np.pi / 2)\n",
    "ry_pi = RYGate(np.pi)\n",
    "rzz_pi_2 = RZZGate(np.pi / 2)\n",
    "idle_gate = IGate()\n",
    "\n",
    "# Convert to Kraus operators\n",
    "kraus_rx_pi_2 = qiskit_interface.qiskit_gate_to_kraus(rx_pi_2)\n",
    "kraus_rx_pi = qiskit_interface.qiskit_gate_to_kraus(rx_pi)\n",
    "kraus_ry_pi_2 = qiskit_interface.qiskit_gate_to_kraus(ry_pi_2)\n",
    "kraus_ry_pi = qiskit_interface.qiskit_gate_to_kraus(ry_pi)\n",
    "kraus_rzz_pi_2 = qiskit_interface.qiskit_gate_to_kraus(rzz_pi_2)\n",
    "kraus_idle = qiskit_interface.qiskit_gate_to_kraus(idle_gate)\n",
    "\n",
    "print(\"Kraus operator for RX(pi/2):\", kraus_rx_pi_2)\n",
    "print(\"Kraus operator for RX(pi):\", kraus_rx_pi)\n",
    "print(\"Kraus operator for RY(pi/2):\", kraus_ry_pi_2)\n",
    "print(\"Kraus operator for RY(pi):\", kraus_ry_pi)\n",
    "print(\"Kraus operator for RZZ(pi/2):\", kraus_rzz_pi_2)"
   ]
  },
  {
   "cell_type": "code",
   "execution_count": 4,
   "metadata": {},
   "outputs": [],
   "source": [
    "kraus_operator_set = np.array([[kraus_idle], [kraus_rx_pi_2], [kraus_ry_pi_2], [kraus_rx_pi], [kraus_ry_pi]])\n",
    "gate_set = [idle_gate, rx_pi_2, ry_pi_2, rx_pi, ry_pi]\n",
    "\n",
    "pdim = 2   # physical dimension\n",
    "r = pdim**2   # matrix dimension of the gate superoperators\n",
    "sequence_length = 8  # maximum number of gates in each measurement sequence (sequence length)\n",
    "gate_set_length = len(gate_set)  # number of gates in the gate set\n",
    "rK_true = 1   # rank of simulated gates used for testing\n",
    "rK = 1   # rank of the mGST model estimate\n",
    "n_povm = 2   # number of POVM-elements\n",
    "shots = 1000\n",
    "sequence_number = 100\n",
    "\n",
    "gate_sequence = qiskit_interface.get_gate_sequence(sequence_number, sequence_length, gate_set)"
   ]
  },
  {
   "cell_type": "code",
   "execution_count": 14,
   "metadata": {},
   "outputs": [],
   "source": [
    "results = qiskit_interface.simulate_circuit(gate_sequence, gate_set, 1, shots)"
   ]
  },
  {
   "cell_type": "code",
   "execution_count": 23,
   "metadata": {},
   "outputs": [
    {
     "name": "stdout",
     "output_type": "stream",
     "text": [
      "Starting optimization...\n",
      " 20%|██        | 6/30 [00:01<00:04,  4.87it/s]\n",
      "Optimization successful, improving estimate over full data....\n",
      " 40%|████      | 4/10 [00:01<00:02,  2.08it/s]\n",
      "#################\n",
      "\t Convergence criterion satisfied\n",
      "\t Final objective function value 0.00011362654927502947 with # of initializations: 1 \n",
      " \t Total runtime: 3.1610500812530518\n"
     ]
    },
    {
     "data": {
      "image/png": "[encoded data removed]",
      "text/plain": [
       "<Figure size 640x480 with 1 Axes>"
      ]
     },
     "metadata": {},
     "output_type": "display_data"
    },
    {
     "name": "stdout",
     "output_type": "stream",
     "text": [
      "Mean variation error: 0.007892897925780884\n"
     ]
    }
   ],
   "source": [
    "X_true = np.einsum('ijkl,ijnm -> iknlm', kraus_operator_set, kraus_operator_set.conj()\n",
    "                   ).reshape(gate_set_length, r, r)   # tensor of superoperators\n",
    "\n",
    "K_depol = additional_fns.depol(pdim, 0.02)  # Kraus-rep of depolarizing channel\n",
    "G_depol = np.einsum('jkl,jnm -> knlm', K_depol, K_depol.conj()).reshape(r, r)\n",
    "# |10> initial state with depolarizing noise\n",
    "rho_true = G_depol@np.array([[1, 0], [0, 0]]).reshape(-1).astype(np.complex128)\n",
    "\n",
    "# Computational basis measurement:\n",
    "E1 = np.array([[1, 0], [0, 0]]).reshape(-1)\n",
    "E2 = np.array([[0, 0], [0, 1]]).reshape(-1)\n",
    "E_true = np.array([E1, E2]).astype(np.complex128)   # Full POVM\n",
    "\n",
    "# simulate finite sampling statistics\n",
    "y_sampled = results.copy()\n",
    "\n",
    "delta = .1  # unitary noise parameter\n",
    "\n",
    "# Generate noisy version of true gate set\n",
    "K0 = np.zeros((gate_set_length, rK, pdim, pdim)).astype(np.complex128)\n",
    "for i in range(gate_set_length):\n",
    "    U_p = expm(delta*1j*additional_fns.randHerm(pdim)\n",
    "               ).astype(np.complex128)   # unitary noise\n",
    "    K0[i] = np.einsum('jkl,lm', kraus_operator_set[i], U_p)\n",
    "X0 = np.einsum('ijkl,ijnm -> iknlm', K0, K0.conj()).reshape(gate_set_length, r, r)\n",
    "\n",
    "rho0 = additional_fns.randpsd(r).copy()   # random initial state\n",
    "A0 = additional_fns.randKrausSet(1, r, n_povm)[0].conj()   # random POVM decomposition\n",
    "E0 = np.array([(A0[i].T.conj()@A0[i]).reshape(-1)\n",
    "              for i in range(n_povm)]).copy()\n",
    "\n",
    "bsize = 50   # The batch size on which the optimization is started\n",
    "K, X, E, rho, res_list = algorithm.run_mGST(y_sampled, gate_sequence, sequence_length, gate_set_length, r,\n",
    "                                            rK, n_povm, bsize, shots, method='SFN',\n",
    "                                            max_inits=10, max_iter=30, final_iter=10,\n",
    "                                            target_rel_prec=1e-4, init=[K0, E0, rho0])\n",
    "plt.semilogy(res_list)   # plot the objective function over the iterations\n",
    "plt.show()\n",
    "print('Mean variation error:', additional_fns.MVE(X_true, E_true, rho_true, X, E,\n",
    "      rho, gate_set_length, sequence_length, n_povm)[0])   # output the final mean variation error"
   ]
  },
  {
   "cell_type": "code",
   "execution_count": 31,
   "metadata": {},
   "outputs": [],
   "source": [
    "def kraus_to_pauli_rotation(kraus_op):\n",
    "    \"\"\"\n",
    "    Decompose a single-qubit Kraus operator into Pauli matrices and find the rotation angles.\n",
    "\n",
    "    Parameters:\n",
    "    kraus_op (np.array): The Kraus operator (2x2 matrix).\n",
    "\n",
    "    Returns:\n",
    "    tuple: Rotation angles (theta, phi) around the Bloch sphere.\n",
    "    \"\"\"\n",
    "    # Pauli matrices\n",
    "    sigma_x = np.array([[0, 1], [1, 0]])\n",
    "    sigma_y = np.array([[0, -1j], [1j, 0]])\n",
    "    sigma_z = np.array([[1, 0], [0, -1]])\n",
    "\n",
    "    # Coefficients for Pauli decomposition\n",
    "    a_x = np.trace(np.dot(kraus_op, sigma_x)) / 2\n",
    "    a_y = np.trace(np.dot(kraus_op, sigma_y)) / 2\n",
    "    a_z = np.trace(np.dot(kraus_op, sigma_z)) / 2\n",
    "\n",
    "    # Calculate rotation angles (theta and phi)\n",
    "    theta = 2 * np.arccos(a_z)\n",
    "    phi = np.arctan2(np.imag(a_y), np.imag(a_x))\n",
    "\n",
    "    theta_pi = np.real(theta) / np.pi\n",
    "    phi_pi = np.real(phi) / np.pi\n",
    "\n",
    "    return theta_pi, phi_pi"
   ]
  },
  {
   "cell_type": "code",
   "execution_count": 34,
   "metadata": {},
   "outputs": [
    {
     "data": {
      "text/plain": [
       "array([[[[ 1.00000000e+00+0.j        ,  0.00000000e+00+0.j        ],\n",
       "         [ 0.00000000e+00+0.j        ,  1.00000000e+00+0.j        ]]],\n",
       "\n",
       "\n",
       "       [[[ 7.07106781e-01+0.j        ,  0.00000000e+00-0.70710678j],\n",
       "         [ 0.00000000e+00-0.70710678j,  7.07106781e-01+0.j        ]]],\n",
       "\n",
       "\n",
       "       [[[ 7.07106781e-01+0.j        , -7.07106781e-01+0.j        ],\n",
       "         [ 7.07106781e-01+0.j        ,  7.07106781e-01+0.j        ]]],\n",
       "\n",
       "\n",
       "       [[[ 6.12323400e-17+0.j        ,  0.00000000e+00-1.j        ],\n",
       "         [ 0.00000000e+00-1.j        ,  6.12323400e-17+0.j        ]]],\n",
       "\n",
       "\n",
       "       [[[ 6.12323400e-17+0.j        , -1.00000000e+00+0.j        ],\n",
       "         [ 1.00000000e+00+0.j        ,  6.12323400e-17+0.j        ]]]])"
      ]
     },
     "execution_count": 34,
     "metadata": {},
     "output_type": "execute_result"
    }
   ],
   "source": [
    "kraus_operator_set"
   ]
  },
  {
   "cell_type": "code",
   "execution_count": 35,
   "metadata": {},
   "outputs": [
    {
     "name": "stdout",
     "output_type": "stream",
     "text": [
      "Theta: 1.0 Phi: 0.0\n",
      "Theta: 1.0 Phi: 1.0\n",
      "Theta: 1.0 Phi: -0.5\n",
      "Theta: 1.0 Phi: 1.0\n",
      "Theta: 1.0 Phi: -0.5\n"
     ]
    }
   ],
   "source": [
    "for i in range(5):\n",
    "    theta, phi = kraus_to_pauli_rotation(kraus_operator_set[i][0])\n",
    "    print(\"Theta:\", theta, \"Phi:\", phi)"
   ]
  },
  {
   "cell_type": "code",
   "execution_count": 37,
   "metadata": {},
   "outputs": [
    {
     "data": {
      "text/plain": [
       "(1.0, 0.0)"
      ]
     },
     "execution_count": 37,
     "metadata": {},
     "output_type": "execute_result"
    }
   ],
   "source": [
    "kraus_to_pauli_rotation([[1, 0], [0, 1]])"
   ]
  }
 ],
 "metadata": {
  "kernelspec": {
   "display_name": "Python 3",
   "language": "python",
   "name": "python3"
  },
  "language_info": {
   "codemirror_mode": {
    "name": "ipython",
    "version": 3
   },
   "file_extension": ".py",
   "mimetype": "text/x-python",
   "name": "python",
   "nbconvert_exporter": "python",
   "pygments_lexer": "ipython3",
   "version": "3.10.0"
  }
 },
 "nbformat": 4,
 "nbformat_minor": 2
}
