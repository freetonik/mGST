{
 "cells": [
  {
   "cell_type": "code",
   "execution_count": 7,
   "id": "b91f2261-3ec1-4ac6-a560-33721fd0e554",
   "metadata": {},
   "outputs": [],
   "source": [
    "from mGST import compatibility,algorithm, optimization, low_level_jit, additional_fns\n",
    "from mGST.reporting import uncertainty, reporting\n",
    "\n",
    "from argparse import Namespace\n",
    "from pandas import read_csv\n",
    "from exp_design.target_gates import *\n",
    "import pickle"
   ]
  },
  {
   "cell_type": "code",
   "execution_count": 8,
   "id": "2d4ac25d-7bba-4d34-b336-2bed0a9ac7fa",
   "metadata": {},
   "outputs": [],
   "source": [
    "folder_name = \"exp_data\"\n",
    "basis_dict = {'00':0, '01':0, '10':1, '11':1}"
   ]
  },
  {
   "cell_type": "code",
   "execution_count": 9,
   "id": "190a4c9c-b4e8-459c-9add-4e1ea1da65b4",
   "metadata": {},
   "outputs": [],
   "source": [
    "# Import sequence list\n",
    "J_list = read_csv(\"exp_design/sequences.csv\", delimiter=\",\", names = list(range(32))).values\n",
    "N = J_list.shape[0] + 1\n",
    "J_list = [[int(x) for x in J_list[i,:] if str(x) != 'nan'] for i in range(N-1)]\n",
    "J_list.insert(0,[])\n",
    "l_max = np.max([len(J_list[i]) for i in range(N)])\n",
    "\n",
    "J = []\n",
    "for i in range(N):\n",
    "    J.append(list(np.pad(J_list[i],(0,l_max-len(J_list[i])),'constant',constant_values=-1)))\n",
    "J = np.array(J).astype(int)[:,::-1]"
   ]
  },
  {
   "cell_type": "code",
   "execution_count": 10,
   "id": "eaaafb1b-7919-4343-aaa9-32e90b11dd81",
   "metadata": {},
   "outputs": [],
   "source": [
    "y, meas_samples = reporting.outcome_probs_from_files(folder_name, basis_dict, n_povm,N)"
   ]
  },
  {
   "cell_type": "code",
   "execution_count": 11,
   "id": "50b1fb9f-63aa-4a29-b59f-c1b3618c7e19",
   "metadata": {
    "tags": []
   },
   "outputs": [
    {
     "name": "stdout",
     "output_type": "stream",
     "text": [
      "Starting optimization...\n",
      "100%|█████████████████████████████████████████████| 2/2 [00:08<00:00,  4.32s/it]\n"
     ]
    },
    {
     "data": {
      "image/png": "[encoded data removed]",
      "text/plain": [
       "<Figure size 640x480 with 1 Axes>"
      ]
     },
     "metadata": {},
     "output_type": "display_data"
    },
    {
     "name": "stdout",
     "output_type": "stream",
     "text": [
      "#################\n",
      "\t Convergence criterion satisfied\n",
      "\t Final objective function value 0.0010214609545433646 with # of initializations: 1 \n",
      " \t Total runtime: 10.259578227996826\n"
     ]
    }
   ],
   "source": [
    "mGST_args = {'y': y, 'J': J, 'l': l_max, 'd': d, 'r': r, 'rK': rK, 'n_povm': n_povm, 'bsize': bsize, \n",
    "             'meas_samples': meas_samples, 'method': 'SFN', 'max_inits': 10, 'max_iter': 100, \n",
    "             'final_iter': 2, 'threshold_multiplier': 5, 'target_rel_prec': 5e-6}\n",
    "ns = Namespace(**mGST_args)\n",
    "\n",
    "K_target = additional_fns.Kraus_rep(X_target,d,pdim,rK)\n",
    "\n",
    "if from_init:\n",
    "    K,X,E,rho,res_list = algorithm.run_mGST(ns.y,ns.J,ns.l,ns.d,ns.r,ns.rK, ns.n_povm, ns.bsize, ns.meas_samples, method = ns.method,\n",
    "                     max_inits = ns.max_inits, max_iter = 0, final_iter = ns.final_iter, threshold_multiplier = ns.threshold_multiplier, \n",
    "                     target_rel_prec = ns.target_rel_prec, init = [K_target, E_target, rho_target], testing = True)   \n",
    "else:\n",
    "    K,X,E,rho,res_list = algorithm.run_mGST(ns.y,ns.J,ns.l,ns.d,ns.r,ns.rK, ns.n_povm, ns.bsize, ns.meas_samples, method = ns.method,\n",
    "                     max_inits = ns.max_inits, max_iter = ns.max_iter, final_iter = ns.final_iter, threshold_multiplier = ns.threshold_multiplier, \n",
    "                     target_rel_prec = ns.target_rel_prec, testing = True)   "
   ]
  },
  {
   "cell_type": "code",
   "execution_count": 13,
   "id": "115fa007-7b3a-4dd3-8fdb-eff590f61ef5",
   "metadata": {},
   "outputs": [
    {
     "data": {
      "text/html": [
       "<style type=\"text/css\">\n",
       "#T_cf5ef th.col_heading {\n",
       "  text-align: center;\n",
       "}\n",
       "#T_cf5ef th.col_heading.level0 {\n",
       "  font-size: 1em;\n",
       "}\n",
       "#T_cf5ef td {\n",
       "  text-align: center;\n",
       "}\n",
       "</style>\n",
       "<table id=\"T_cf5ef\">\n",
       "  <thead>\n",
       "    <tr>\n",
       "      <th class=\"blank level0\" >&nbsp;</th>\n",
       "      <th id=\"T_cf5ef_level0_col0\" class=\"col_heading level0 col0\" >F_avg</th>\n",
       "      <th id=\"T_cf5ef_level0_col1\" class=\"col_heading level0 col1\" >Min. Spectral distances</th>\n",
       "    </tr>\n",
       "  </thead>\n",
       "  <tbody>\n",
       "    <tr>\n",
       "      <th id=\"T_cf5ef_level0_row0\" class=\"row_heading level0 row0\" >Idle_short</th>\n",
       "      <td id=\"T_cf5ef_row0_col0\" class=\"data row0 col0\" >0,99975</td>\n",
       "      <td id=\"T_cf5ef_row0_col1\" class=\"data row0 col1\" >0,01565</td>\n",
       "    </tr>\n",
       "    <tr>\n",
       "      <th id=\"T_cf5ef_level0_row1\" class=\"row_heading level0 row1\" >Idle_long</th>\n",
       "      <td id=\"T_cf5ef_row1_col0\" class=\"data row1 col0\" >0,99961</td>\n",
       "      <td id=\"T_cf5ef_row1_col1\" class=\"data row1 col1\" >0,00950</td>\n",
       "    </tr>\n",
       "    <tr>\n",
       "      <th id=\"T_cf5ef_level0_row2\" class=\"row_heading level0 row2\" >Rx(pi)</th>\n",
       "      <td id=\"T_cf5ef_row2_col0\" class=\"data row2 col0\" >0,99951</td>\n",
       "      <td id=\"T_cf5ef_row2_col1\" class=\"data row2 col1\" >0,00717</td>\n",
       "    </tr>\n",
       "    <tr>\n",
       "      <th id=\"T_cf5ef_level0_row3\" class=\"row_heading level0 row3\" >Ry(pi)</th>\n",
       "      <td id=\"T_cf5ef_row3_col0\" class=\"data row3 col0\" >0,99976</td>\n",
       "      <td id=\"T_cf5ef_row3_col1\" class=\"data row3 col1\" >0,00168</td>\n",
       "    </tr>\n",
       "    <tr>\n",
       "      <th id=\"T_cf5ef_level0_row4\" class=\"row_heading level0 row4\" >Rx(pi/2)</th>\n",
       "      <td id=\"T_cf5ef_row4_col0\" class=\"data row4 col0\" >0,99847</td>\n",
       "      <td id=\"T_cf5ef_row4_col1\" class=\"data row4 col1\" >0,01770</td>\n",
       "    </tr>\n",
       "    <tr>\n",
       "      <th id=\"T_cf5ef_level0_row5\" class=\"row_heading level0 row5\" >Ry(pi/2)</th>\n",
       "      <td id=\"T_cf5ef_row5_col0\" class=\"data row5 col0\" >0,99965</td>\n",
       "      <td id=\"T_cf5ef_row5_col1\" class=\"data row5 col1\" >0,00577</td>\n",
       "    </tr>\n",
       "  </tbody>\n",
       "</table>\n"
      ],
      "text/plain": [
       "<pandas.io.formats.style.Styler at 0x7f215c133430>"
      ]
     },
     "metadata": {},
     "output_type": "display_data"
    },
    {
     "data": {
      "text/html": [
       "<style type=\"text/css\">\n",
       "#T_9af5a th.col_heading {\n",
       "  text-align: center;\n",
       "}\n",
       "#T_9af5a th.col_heading.level0 {\n",
       "  font-size: 1em;\n",
       "}\n",
       "#T_9af5a td {\n",
       "  text-align: center;\n",
       "}\n",
       "</style>\n",
       "<table id=\"T_9af5a\">\n",
       "  <thead>\n",
       "    <tr>\n",
       "      <th class=\"blank level0\" >&nbsp;</th>\n",
       "      <th id=\"T_9af5a_level0_col0\" class=\"col_heading level0 col0\" >Final cost function value</th>\n",
       "      <th id=\"T_9af5a_level0_col1\" class=\"col_heading level0 col1\" >Mean total variation dist. to data</th>\n",
       "      <th id=\"T_9af5a_level0_col2\" class=\"col_heading level0 col2\" >Mean total variation dist. target to data</th>\n",
       "      <th id=\"T_9af5a_level0_col3\" class=\"col_heading level0 col3\" >State - Trace dist.</th>\n",
       "    </tr>\n",
       "  </thead>\n",
       "  <tbody>\n",
       "    <tr>\n",
       "      <th id=\"T_9af5a_level0_row0\" class=\"row_heading level0 row0\" ></th>\n",
       "      <td id=\"T_9af5a_row0_col0\" class=\"data row0 col0\" >0.001021</td>\n",
       "      <td id=\"T_9af5a_row0_col1\" class=\"data row0 col1\" >0.025782</td>\n",
       "      <td id=\"T_9af5a_row0_col2\" class=\"data row0 col2\" >0.030960</td>\n",
       "      <td id=\"T_9af5a_row0_col3\" class=\"data row0 col3\" >0.006192</td>\n",
       "    </tr>\n",
       "  </tbody>\n",
       "</table>\n"
      ],
      "text/plain": [
       "<pandas.io.formats.style.Styler at 0x7f215c132ce0>"
      ]
     },
     "metadata": {},
     "output_type": "display_data"
    },
    {
     "data": {
      "text/plain": [
       "(None, None)"
      ]
     },
     "execution_count": 13,
     "metadata": {},
     "output_type": "execute_result"
    }
   ],
   "source": [
    "# aim: show preliminary results in console and ask if report should be generated & Ask for bootstrapping\n",
    "target_mdl = compatibility.arrays_to_pygsti_model(X_target,E_target,rho_target, basis = 'std')\n",
    "\n",
    "weights = {'G0': 1,'G1': 1, 'G2': 1, 'G3': 1, 'G4': 1, 'G5': 1, 'spam': 1}\n",
    "gate_labels = {0: \"Idle_short\", 1: \"Idle_long\", 2: \"Rx(pi)\", 3: \"Ry(pi)\", 4: \"Rx(pi/2)\", 5: \"Ry(pi/2)\"}\n",
    "X_opt, E_opt, rho_opt = reporting.gauge_opt(X, E, rho, target_mdl, weights)\n",
    "f_g, df_o, s_g, s_o = reporting.quick_report(X_opt, E_opt, rho_opt, J, y, target_mdl, gate_labels)\n",
    "\n",
    "display(s_g), display(s_o)  "
   ]
  },
  {
   "cell_type": "code",
   "execution_count": 23,
   "id": "1bfb3adc-6031-4754-90e5-dbd33e346e32",
   "metadata": {},
   "outputs": [
    {
     "name": "stdout",
     "output_type": "stream",
     "text": [
      "               F_avg  Min. Spectral distances\n",
      "Idle_short  0.999754                 0.015654\n",
      "Idle_long   0.999613                 0.009501\n",
      "Rx(pi)      0.999507                 0.007173\n",
      "Ry(pi)      0.999757                 0.001681\n",
      "Rx(pi/2)    0.998471                 0.017704\n",
      "Ry(pi/2)    0.999648                 0.005767\n"
     ]
    }
   ],
   "source": [
    "print(f_g.to_string())"
   ]
  },
  {
   "cell_type": "code",
   "execution_count": 37,
   "id": "9c1d3e62-28e2-4d54-a7b7-dfa0aeee003f",
   "metadata": {},
   "outputs": [
    {
     "ename": "NameError",
     "evalue": "name 'pickle' is not defined",
     "output_type": "error",
     "traceback": [
      "\u001b[0;31m---------------------------------------------------------------------------\u001b[0m",
      "\u001b[0;31mNameError\u001b[0m                                 Traceback (most recent call last)",
      "Cell \u001b[0;32mIn[37], line 13\u001b[0m\n\u001b[1;32m     10\u001b[0m data_to_safe \u001b[38;5;241m=\u001b[39m {\u001b[38;5;124m'\u001b[39m\u001b[38;5;124mparameters\u001b[39m\u001b[38;5;124m'\u001b[39m: mGST_args, \u001b[38;5;124m'\u001b[39m\u001b[38;5;124mresults\u001b[39m\u001b[38;5;124m'\u001b[39m: results}\n\u001b[1;32m     12\u001b[0m \u001b[38;5;28;01mwith\u001b[39;00m \u001b[38;5;28mopen\u001b[39m(filename, \u001b[38;5;124m'\u001b[39m\u001b[38;5;124mwb\u001b[39m\u001b[38;5;124m'\u001b[39m) \u001b[38;5;28;01mas\u001b[39;00m handle:\n\u001b[0;32m---> 13\u001b[0m     \u001b[43mpickle\u001b[49m\u001b[38;5;241m.\u001b[39mdump(data_to_safe, handle, protocol\u001b[38;5;241m=\u001b[39mpickle\u001b[38;5;241m.\u001b[39mHIGHEST_PROTOCOL)\n",
      "\u001b[0;31mNameError\u001b[0m: name 'pickle' is not defined"
     ]
    }
   ],
   "source": [
    "# ###################################### \n",
    "experiment_name = 'test'\n",
    "bootstrapping = False\n",
    "filename = 'mgst_results/results_'+experiment_name\n",
    "\n",
    "if bootstrapping:\n",
    "    results = {'estimates': (K,X,E,rho), 'gauge_opt_estimates': (X_opt, E_opt, rho_opt), 'bootstrap_data': (X_array, E_array, rho_array, df_g_array, df_o_array)}\n",
    "else:\n",
    "    results = {'estimates': (K,X,E,rho), 'gauge_opt_estimates': (X_opt, E_opt, rho_opt)}\n",
    "data_to_safe = {'parameters': mGST_args, 'results': results}\n",
    "\n",
    "with open(filename, 'wb') as handle:\n",
    "    pickle.dump(data_to_safe, handle, protocol=pickle.HIGHEST_PROTOCOL)"
   ]
  }
 ],
 "metadata": {
  "kernelspec": {
   "display_name": "Python 3 (ipykernel)",
   "language": "python",
   "name": "python3"
  },
  "language_info": {
   "codemirror_mode": {
    "name": "ipython",
    "version": 3
   },
   "file_extension": ".py",
   "mimetype": "text/x-python",
   "name": "python",
   "nbconvert_exporter": "python",
   "pygments_lexer": "ipython3",
   "version": "3.10.12"
  }
 },
 "nbformat": 4,
 "nbformat_minor": 5
}
