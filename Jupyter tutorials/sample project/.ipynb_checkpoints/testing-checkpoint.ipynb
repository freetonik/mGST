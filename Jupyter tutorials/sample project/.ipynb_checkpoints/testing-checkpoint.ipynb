{
 "cells": [
  {
   "cell_type": "code",
   "execution_count": 1,
   "id": "b91f2261-3ec1-4ac6-a560-33721fd0e554",
   "metadata": {},
   "outputs": [],
   "source": [
    "from mGST import compatibility,algorithm, optimization, low_level_jit, additional_fns\n",
    "from mGST.reporting import uncertainty, reporting\n",
    "\n",
    "import pickle as pickle\n",
    "from pygsti.report import reportables as rptbl #Needs cvxpy!\n",
    "from pygsti.modelpacks import smq1Q_XYI as std\n",
    "import pygsti\n",
    "from argparse import Namespace\n",
    "from itertools import product\n",
    "\n",
    "import numpy as np\n",
    "import pandas as pd\n",
    "import numpy.linalg as la\n",
    "import json\n",
    "import pandas\n",
    "import matplotlib.pyplot as plt\n",
    "from os import listdir\n",
    "from exp_design.target_gates import *"
   ]
  },
  {
   "cell_type": "code",
   "execution_count": 2,
   "id": "2d4ac25d-7bba-4d34-b336-2bed0a9ac7fa",
   "metadata": {},
   "outputs": [],
   "source": [
    "folder_name = \"exp_data\""
   ]
  },
  {
   "cell_type": "code",
   "execution_count": 3,
   "id": "190a4c9c-b4e8-459c-9add-4e1ea1da65b4",
   "metadata": {},
   "outputs": [],
   "source": [
    "# Import sequence list\n",
    "J_list = pandas.read_csv(\"exp_design/sequences.csv\", delimiter=\",\", names = list(range(32))).values\n",
    "N = J_list.shape[0] + 1\n",
    "J_list = [[int(x) for x in J_list[i,:] if str(x) != 'nan'] for i in range(N-1)]\n",
    "J_list.insert(0,[])\n",
    "l_max = np.max([len(J_list[i]) for i in range(N)])\n",
    "\n",
    "J = []\n",
    "for i in range(N):\n",
    "    J.append(list(np.pad(J_list[i],(0,l_max-len(J_list[i])),'constant',constant_values=-1)))\n",
    "J = np.array(J).astype(int)[:,::-1]"
   ]
  },
  {
   "cell_type": "code",
   "execution_count": 4,
   "id": "8f5871e1-2d46-49a1-9d50-9035abebe3de",
   "metadata": {
    "tags": []
   },
   "outputs": [],
   "source": [
    "basis_dict = {'00':0, '01':0, '10':1, '11':1}\n",
    "\n",
    "def outcome_probs_from_files(folder_name, basis_dict, n_povm,N):\n",
    "    \n",
    "    filenames = listdir(path = folder_name)\n",
    "    datafile_names  = [s for s in filenames if \".txt\" in s]\n",
    "\n",
    "    # sample_counts keeps track of how many shots were taken for each sequence\n",
    "    sample_counts = []\n",
    "    # array of outcome probabilities:\n",
    "    y = np.zeros((n_povm,N))\n",
    "    sample_counts = np.zeros((len(datafile_names),N))\n",
    "    k = 0\n",
    "    for filename in datafile_names:\n",
    "        with open(folder_name + \"/\" + filename) as file:\n",
    "            i = 0\n",
    "            for line in file:\n",
    "                # removing row index at beginning and \\n mark at end \n",
    "                line_entries = line.rstrip().split(': ')\n",
    "                # splitting result string at commas\n",
    "                result_list = line_entries[1:][0].split(',')\n",
    "                # translate each measurement result onto basis index\n",
    "                for entry in result_list: \n",
    "                    j = basis_dict[entry]\n",
    "                    y[j,i] += 1\n",
    "                sample_counts[k,i] = len(result_list)\n",
    "                i += 1\n",
    "        k += 1\n",
    "    total_counts = np.sum(sample_counts, axis = 0)\n",
    "    return y/total_counts, np.max(total_counts)"
   ]
  },
  {
   "cell_type": "code",
   "execution_count": 5,
   "id": "eaaafb1b-7919-4343-aaa9-32e90b11dd81",
   "metadata": {},
   "outputs": [],
   "source": [
    "y, meas_samples = outcome_probs_from_files(folder_name, basis_dict, n_povm,N)"
   ]
  },
  {
   "cell_type": "code",
   "execution_count": 6,
   "id": "50b1fb9f-63aa-4a29-b59f-c1b3618c7e19",
   "metadata": {},
   "outputs": [
    {
     "name": "stdout",
     "output_type": "stream",
     "text": [
      "Starting optimization...\n",
      " 56%|███████████████████████▌                  | 56/100 [02:23<01:52,  2.57s/it]\n"
     ]
    },
    {
     "data": {
      "image/png": "[encoded data removed]",
      "text/plain": [
       "<Figure size 432x288 with 1 Axes>"
      ]
     },
     "metadata": {
      "needs_background": "light"
     },
     "output_type": "display_data"
    },
    {
     "name": "stdout",
     "output_type": "stream",
     "text": [
      "Initialization successful, improving estimate over full data....\n",
      "  8%|███▌                                      | 17/200 [01:50<19:53,  6.52s/it]\n"
     ]
    },
    {
     "data": {
      "image/png": "[encoded data removed]",
      "text/plain": [
       "<Figure size 432x288 with 1 Axes>"
      ]
     },
     "metadata": {
      "needs_background": "light"
     },
     "output_type": "display_data"
    },
    {
     "name": "stdout",
     "output_type": "stream",
     "text": [
      "#################\n",
      "\t Convergence criterion satisfied\n",
      "\t Final objective function value 0.0005856387211242836 with # of initializations: 1 \n",
      " \t Total runtime: 256.8261275291443\n"
     ]
    }
   ],
   "source": [
    "mGST_args = {'y': y, 'J': J, 'l': l_max, 'd': d, 'r': r, 'rK': rK, 'n_povm': n_povm, 'bsize': bsize, \n",
    "             'meas_samples': meas_samples, 'method': 'SFN', 'max_inits': 10, 'max_iter': 100, \n",
    "             'final_iter': 200, 'threshold_multiplier': 5, 'target_rel_prec': 5e-6}\n",
    "ns = Namespace(**mGST_args)\n",
    "\n",
    "K_target = additional_fns.Kraus_rep(X_target,d,pdim,rK)\n",
    "\n",
    "if from_init:\n",
    "    K,X,E,rho,res_list = algorithm.run_mGST(ns.y,ns.J,ns.l,ns.d,ns.r,ns.rK, ns.n_povm, ns.bsize, ns.meas_samples, method = ns.method,\n",
    "                     max_inits = ns.max_inits, max_iter = ns.max_iter, final_iter = ns.final_iter, threshold_multiplier = ns.threshold_multiplier, \n",
    "                     target_rel_prec = ns.target_rel_prec, init = [K_target, E_target, rho_target], testing = True)   \n",
    "else:\n",
    "    K,X,E,rho,res_list = algorithm.run_mGST(ns.y,ns.J,ns.l,ns.d,ns.r,ns.rK, ns.n_povm, ns.bsize, ns.meas_samples, method = ns.method,\n",
    "                     max_inits = ns.max_inits, max_iter = ns.max_iter, final_iter = ns.final_iter, threshold_multiplier = ns.threshold_multiplier, \n",
    "                     target_rel_prec = ns.target_rel_prec, testing = True)   "
   ]
  },
  {
   "cell_type": "code",
   "execution_count": 10,
   "id": "115fa007-7b3a-4dd3-8fdb-eff590f61ef5",
   "metadata": {},
   "outputs": [
    {
     "data": {
      "text/html": [
       "<style type=\"text/css\">\n",
       "#T_4ff11 th.col_heading {\n",
       "  text-align: center;\n",
       "}\n",
       "#T_4ff11 th.col_heading.level0 {\n",
       "  font-size: 1em;\n",
       "}\n",
       "#T_4ff11 td {\n",
       "  text-align: center;\n",
       "}\n",
       "</style>\n",
       "<table id=\"T_4ff11\">\n",
       "  <thead>\n",
       "    <tr>\n",
       "      <th class=\"blank level0\" >&nbsp;</th>\n",
       "      <th id=\"T_4ff11_level0_col0\" class=\"col_heading level0 col0\" >F_avg</th>\n",
       "      <th id=\"T_4ff11_level0_col1\" class=\"col_heading level0 col1\" >Diamond distances</th>\n",
       "      <th id=\"T_4ff11_level0_col2\" class=\"col_heading level0 col2\" >Min. Spectral distances</th>\n",
       "    </tr>\n",
       "  </thead>\n",
       "  <tbody>\n",
       "    <tr>\n",
       "      <th id=\"T_4ff11_level0_row0\" class=\"row_heading level0 row0\" >Idle_short</th>\n",
       "      <td id=\"T_4ff11_row0_col0\" class=\"data row0 col0\" >0,99912</td>\n",
       "      <td id=\"T_4ff11_row0_col1\" class=\"data row0 col1\" >0,01657</td>\n",
       "      <td id=\"T_4ff11_row0_col2\" class=\"data row0 col2\" >0,01592</td>\n",
       "    </tr>\n",
       "    <tr>\n",
       "      <th id=\"T_4ff11_level0_row1\" class=\"row_heading level0 row1\" >Idle_long</th>\n",
       "      <td id=\"T_4ff11_row1_col0\" class=\"data row1 col0\" >0,99506</td>\n",
       "      <td id=\"T_4ff11_row1_col1\" class=\"data row1 col1\" >0,01961</td>\n",
       "      <td id=\"T_4ff11_row1_col2\" class=\"data row1 col2\" >0,01785</td>\n",
       "    </tr>\n",
       "    <tr>\n",
       "      <th id=\"T_4ff11_level0_row2\" class=\"row_heading level0 row2\" >Rx(pi)</th>\n",
       "      <td id=\"T_4ff11_row2_col0\" class=\"data row2 col0\" >0,99963</td>\n",
       "      <td id=\"T_4ff11_row2_col1\" class=\"data row2 col1\" >0,00824</td>\n",
       "      <td id=\"T_4ff11_row2_col2\" class=\"data row2 col2\" >0,00220</td>\n",
       "    </tr>\n",
       "    <tr>\n",
       "      <th id=\"T_4ff11_level0_row3\" class=\"row_heading level0 row3\" >Ry(pi)</th>\n",
       "      <td id=\"T_4ff11_row3_col0\" class=\"data row3 col0\" >0,99979</td>\n",
       "      <td id=\"T_4ff11_row3_col1\" class=\"data row3 col1\" >0,01794</td>\n",
       "      <td id=\"T_4ff11_row3_col2\" class=\"data row3 col2\" >0,00123</td>\n",
       "    </tr>\n",
       "    <tr>\n",
       "      <th id=\"T_4ff11_level0_row4\" class=\"row_heading level0 row4\" >Rx(pi/2)</th>\n",
       "      <td id=\"T_4ff11_row4_col0\" class=\"data row4 col0\" >0,99892</td>\n",
       "      <td id=\"T_4ff11_row4_col1\" class=\"data row4 col1\" >0,02077</td>\n",
       "      <td id=\"T_4ff11_row4_col2\" class=\"data row4 col2\" >0,01639</td>\n",
       "    </tr>\n",
       "    <tr>\n",
       "      <th id=\"T_4ff11_level0_row5\" class=\"row_heading level0 row5\" >Ry(pi/2)</th>\n",
       "      <td id=\"T_4ff11_row5_col0\" class=\"data row5 col0\" >0,99578</td>\n",
       "      <td id=\"T_4ff11_row5_col1\" class=\"data row5 col1\" >0,01734</td>\n",
       "      <td id=\"T_4ff11_row5_col2\" class=\"data row5 col2\" >0,01082</td>\n",
       "    </tr>\n",
       "  </tbody>\n",
       "</table>\n"
      ],
      "text/plain": [
       "<pandas.io.formats.style.Styler at 0x7f2a2cdac670>"
      ]
     },
     "metadata": {},
     "output_type": "display_data"
    },
    {
     "data": {
      "text/html": [
       "<style type=\"text/css\">\n",
       "#T_dbbd8 th.col_heading {\n",
       "  text-align: center;\n",
       "}\n",
       "#T_dbbd8 th.col_heading.level0 {\n",
       "  font-size: 1em;\n",
       "}\n",
       "#T_dbbd8 td {\n",
       "  text-align: center;\n",
       "}\n",
       "</style>\n",
       "<table id=\"T_dbbd8\">\n",
       "  <thead>\n",
       "    <tr>\n",
       "      <th class=\"blank level0\" >&nbsp;</th>\n",
       "      <th id=\"T_dbbd8_level0_col0\" class=\"col_heading level0 col0\" >Final cost function value</th>\n",
       "      <th id=\"T_dbbd8_level0_col1\" class=\"col_heading level0 col1\" >Mean total variation dist. to data</th>\n",
       "      <th id=\"T_dbbd8_level0_col2\" class=\"col_heading level0 col2\" >Mean total variation dist. target to data</th>\n",
       "      <th id=\"T_dbbd8_level0_col3\" class=\"col_heading level0 col3\" >POVM - Meas. map diamond dist.</th>\n",
       "      <th id=\"T_dbbd8_level0_col4\" class=\"col_heading level0 col4\" >State - Trace dist.</th>\n",
       "    </tr>\n",
       "  </thead>\n",
       "  <tbody>\n",
       "    <tr>\n",
       "      <th id=\"T_dbbd8_level0_row0\" class=\"row_heading level0 row0\" ></th>\n",
       "      <td id=\"T_dbbd8_row0_col0\" class=\"data row0 col0\" >0.000586</td>\n",
       "      <td id=\"T_dbbd8_row0_col1\" class=\"data row0 col1\" >0.018888</td>\n",
       "      <td id=\"T_dbbd8_row0_col2\" class=\"data row0 col2\" >0.030960</td>\n",
       "      <td id=\"T_dbbd8_row0_col3\" class=\"data row0 col3\" >0.013176</td>\n",
       "      <td id=\"T_dbbd8_row0_col4\" class=\"data row0 col4\" >0.007816</td>\n",
       "    </tr>\n",
       "  </tbody>\n",
       "</table>\n"
      ],
      "text/plain": [
       "<pandas.io.formats.style.Styler at 0x7f29d818eac0>"
      ]
     },
     "metadata": {},
     "output_type": "display_data"
    },
    {
     "data": {
      "text/plain": [
       "(None, None)"
      ]
     },
     "execution_count": 10,
     "metadata": {},
     "output_type": "execute_result"
    }
   ],
   "source": [
    "# aim: show preliminary results in console and ask if report should be generated & Ask for bootstrapping\n",
    "target_mdl = compatibility.arrays_to_pygsti_model(X_target,E_target,rho_target, basis = 'std')\n",
    "\n",
    "weights = {'G0': 1,'G1': 1, 'G2': 1, 'G3': 1, 'G4': 1, 'G5': 1, 'spam': 1}\n",
    "gate_labels = {0: \"Idle_short\", 1: \"Idle_long\", 2: \"Rx(pi)\", 3: \"Ry(pi)\", 4: \"Rx(pi/2)\", 5: \"Ry(pi/2)\"}\n",
    "X_opt, E_opt, rho_opt = reporting.gauge_opt(X, E, rho, target_mdl, weights)\n",
    "df_g, df_o, s_g, s_o = reporting.report(X_opt, E_opt, rho_opt, J, y, target_mdl, gate_labels)\n",
    "display(s_g), display(s_o)  "
   ]
  },
  {
   "cell_type": "code",
   "execution_count": 12,
   "id": "9c1d3e62-28e2-4d54-a7b7-dfa0aeee003f",
   "metadata": {},
   "outputs": [],
   "source": [
    "# ###################################### \n",
    "experiment_name = 'test'\n",
    "bootstrapping = False\n",
    "filename = 'mgst_results/results_'+experiment_name\n",
    "\n",
    "if bootstrapping:\n",
    "    results = {'estimates': (K,X,E,rho), 'gauge_opt_estimates': (X_opt, E_opt, rho_opt), 'bootstrap_data': (X_array, E_array, rho_array, df_g_array, df_o_array)}\n",
    "else:\n",
    "    results = {'estimates': (K,X,E,rho), 'gauge_opt_estimates': (X_opt, E_opt, rho_opt)}\n",
    "data_to_safe = {'parameters': mGST_args, 'results': results}\n",
    "\n",
    "with open(filename, 'wb') as handle:\n",
    "    pickle.dump(data_to_safe, handle, protocol=pickle.HIGHEST_PROTOCOL)"
   ]
  },
  {
   "cell_type": "code",
   "execution_count": null,
   "id": "53440e14-3d94-4ebd-92ce-c865bc1e6526",
   "metadata": {},
   "outputs": [],
   "source": []
  }
 ],
 "metadata": {
  "kernelspec": {
   "display_name": "Python 3 (ipykernel)",
   "language": "python",
   "name": "python3"
  },
  "language_info": {
   "codemirror_mode": {
    "name": "ipython",
    "version": 3
   },
   "file_extension": ".py",
   "mimetype": "text/x-python",
   "name": "python",
   "nbconvert_exporter": "python",
   "pygments_lexer": "ipython3",
   "version": "3.8.10"
  }
 },
 "nbformat": 4,
 "nbformat_minor": 5
}
